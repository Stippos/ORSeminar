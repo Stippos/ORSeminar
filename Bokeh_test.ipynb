{
 "cells": [
  {
   "cell_type": "code",
   "execution_count": 8,
   "metadata": {},
   "outputs": [],
   "source": [
    "from bokeh.plotting import figure, output_file, show, output_notebook"
   ]
  },
  {
   "cell_type": "code",
   "execution_count": 11,
   "metadata": {},
   "outputs": [
    {
     "data": {
      "text/html": [
       "\n",
       "<div class=\"bk-root\">\n",
       "    <div class=\"bk-plotdiv\" id=\"381fc603-b727-4f74-9063-c328506c7ed4\"></div>\n",
       "</div>"
      ]
     },
     "metadata": {},
     "output_type": "display_data"
    },
    {
     "data": {
      "application/javascript": [
       "(function(root) {\n",
       "  function embed_document(root) {\n",
       "    \n",
       "  var docs_json = {\"c56ce110-66e6-4660-9072-6c9e963f0058\":{\"roots\":{\"references\":[{\"attributes\":{\"below\":[{\"id\":\"02592420-ff79-43ac-9b8e-aaf5eb3751b2\",\"type\":\"LinearAxis\"}],\"left\":[{\"id\":\"73c07c9c-c282-4a56-a59a-2f9a2b4272ec\",\"type\":\"LinearAxis\"}],\"renderers\":[{\"id\":\"02592420-ff79-43ac-9b8e-aaf5eb3751b2\",\"type\":\"LinearAxis\"},{\"id\":\"315e2405-37c3-4a64-8ef4-452d3334df6b\",\"type\":\"Grid\"},{\"id\":\"73c07c9c-c282-4a56-a59a-2f9a2b4272ec\",\"type\":\"LinearAxis\"},{\"id\":\"89333d42-272d-4895-aeea-de7b39b6aa7c\",\"type\":\"Grid\"},{\"id\":\"d42f6acc-c0fd-40c9-a4b0-73d360c9e74e\",\"type\":\"BoxAnnotation\"},{\"id\":\"b5fce575-4d41-4e11-85f8-4e60be877029\",\"type\":\"Legend\"},{\"id\":\"4e3b7359-d31c-449b-9d58-b5fcff1e9ca3\",\"type\":\"GlyphRenderer\"}],\"title\":{\"id\":\"3be14759-e114-4aa6-8f9a-fdb81182d942\",\"type\":\"Title\"},\"toolbar\":{\"id\":\"1e12a53b-9212-4f76-86f8-68b92f650853\",\"type\":\"Toolbar\"},\"x_range\":{\"id\":\"292044e4-6de0-472c-8197-e98a0de0e771\",\"type\":\"DataRange1d\"},\"x_scale\":{\"id\":\"2217a5fa-ca36-429a-b91b-61d962679c38\",\"type\":\"LinearScale\"},\"y_range\":{\"id\":\"c1de8bdf-c905-425a-a171-348a74f154de\",\"type\":\"DataRange1d\"},\"y_scale\":{\"id\":\"cc54d1e2-77d0-4f0f-b4ea-5a78551238e3\",\"type\":\"LinearScale\"}},\"id\":\"91063a26-04b6-4654-9786-44eb71e61f2a\",\"subtype\":\"Figure\",\"type\":\"Plot\"},{\"attributes\":{},\"id\":\"cc54d1e2-77d0-4f0f-b4ea-5a78551238e3\",\"type\":\"LinearScale\"},{\"attributes\":{\"axis_label\":\"x\",\"formatter\":{\"id\":\"db5d7c7f-e0c6-442b-a2be-f20294a198fe\",\"type\":\"BasicTickFormatter\"},\"plot\":{\"id\":\"91063a26-04b6-4654-9786-44eb71e61f2a\",\"subtype\":\"Figure\",\"type\":\"Plot\"},\"ticker\":{\"id\":\"5e103045-6457-4596-b481-7956f2aa267d\",\"type\":\"BasicTicker\"}},\"id\":\"02592420-ff79-43ac-9b8e-aaf5eb3751b2\",\"type\":\"LinearAxis\"},{\"attributes\":{},\"id\":\"5e103045-6457-4596-b481-7956f2aa267d\",\"type\":\"BasicTicker\"},{\"attributes\":{\"callback\":null,\"column_names\":[\"y\",\"x\"],\"data\":{\"x\":[1,2,3,4,5],\"y\":[6,7,2,4,5]}},\"id\":\"e50f52d0-1adf-4aca-bcd1-63364b4b839d\",\"type\":\"ColumnDataSource\"},{\"attributes\":{\"active_drag\":\"auto\",\"active_inspect\":\"auto\",\"active_scroll\":\"auto\",\"active_tap\":\"auto\",\"tools\":[{\"id\":\"e18d3409-fe8e-489b-a3ba-e7d911f2ff39\",\"type\":\"PanTool\"},{\"id\":\"072036bc-9b85-4f92-b591-c1b12e9baaf7\",\"type\":\"WheelZoomTool\"},{\"id\":\"432c80bb-dff8-410c-b151-ae07d37e83b4\",\"type\":\"BoxZoomTool\"},{\"id\":\"27a151f3-1678-4792-bab0-a19ec6c6fb79\",\"type\":\"SaveTool\"},{\"id\":\"72e4d774-29c9-4cf0-8b9b-3c9e33a8d23b\",\"type\":\"ResetTool\"},{\"id\":\"fbfd5ae7-ecb4-49d7-866f-8a99533d302a\",\"type\":\"HelpTool\"}]},\"id\":\"1e12a53b-9212-4f76-86f8-68b92f650853\",\"type\":\"Toolbar\"},{\"attributes\":{\"callback\":null},\"id\":\"c1de8bdf-c905-425a-a171-348a74f154de\",\"type\":\"DataRange1d\"},{\"attributes\":{},\"id\":\"db5d7c7f-e0c6-442b-a2be-f20294a198fe\",\"type\":\"BasicTickFormatter\"},{\"attributes\":{\"label\":{\"value\":\"Temp.\"},\"renderers\":[{\"id\":\"4e3b7359-d31c-449b-9d58-b5fcff1e9ca3\",\"type\":\"GlyphRenderer\"}]},\"id\":\"c327ba44-3cc5-48e8-a883-130e66fb3a71\",\"type\":\"LegendItem\"},{\"attributes\":{\"plot\":null,\"text\":\"simple line example\"},\"id\":\"3be14759-e114-4aa6-8f9a-fdb81182d942\",\"type\":\"Title\"},{\"attributes\":{\"overlay\":{\"id\":\"d42f6acc-c0fd-40c9-a4b0-73d360c9e74e\",\"type\":\"BoxAnnotation\"}},\"id\":\"432c80bb-dff8-410c-b151-ae07d37e83b4\",\"type\":\"BoxZoomTool\"},{\"attributes\":{\"plot\":{\"id\":\"91063a26-04b6-4654-9786-44eb71e61f2a\",\"subtype\":\"Figure\",\"type\":\"Plot\"},\"ticker\":{\"id\":\"5e103045-6457-4596-b481-7956f2aa267d\",\"type\":\"BasicTicker\"}},\"id\":\"315e2405-37c3-4a64-8ef4-452d3334df6b\",\"type\":\"Grid\"},{\"attributes\":{\"axis_label\":\"y\",\"formatter\":{\"id\":\"94608eb4-1bca-474a-b3ee-ae712cb96289\",\"type\":\"BasicTickFormatter\"},\"plot\":{\"id\":\"91063a26-04b6-4654-9786-44eb71e61f2a\",\"subtype\":\"Figure\",\"type\":\"Plot\"},\"ticker\":{\"id\":\"bdf7584c-71f4-4f0b-97fd-b4d81c05701d\",\"type\":\"BasicTicker\"}},\"id\":\"73c07c9c-c282-4a56-a59a-2f9a2b4272ec\",\"type\":\"LinearAxis\"},{\"attributes\":{},\"id\":\"2217a5fa-ca36-429a-b91b-61d962679c38\",\"type\":\"LinearScale\"},{\"attributes\":{\"bottom_units\":\"screen\",\"fill_alpha\":{\"value\":0.5},\"fill_color\":{\"value\":\"lightgrey\"},\"left_units\":\"screen\",\"level\":\"overlay\",\"line_alpha\":{\"value\":1.0},\"line_color\":{\"value\":\"black\"},\"line_dash\":[4,4],\"line_width\":{\"value\":2},\"plot\":null,\"render_mode\":\"css\",\"right_units\":\"screen\",\"top_units\":\"screen\"},\"id\":\"d42f6acc-c0fd-40c9-a4b0-73d360c9e74e\",\"type\":\"BoxAnnotation\"},{\"attributes\":{\"source\":{\"id\":\"e50f52d0-1adf-4aca-bcd1-63364b4b839d\",\"type\":\"ColumnDataSource\"}},\"id\":\"1efbaac4-a77b-4006-a7d3-f3d99778c6f6\",\"type\":\"CDSView\"},{\"attributes\":{\"line_color\":\"#1f77b4\",\"line_width\":2,\"x\":{\"field\":\"x\"},\"y\":{\"field\":\"y\"}},\"id\":\"87ccd427-aa6b-41ac-9bc9-1a08e4bbe77e\",\"type\":\"Line\"},{\"attributes\":{\"data_source\":{\"id\":\"e50f52d0-1adf-4aca-bcd1-63364b4b839d\",\"type\":\"ColumnDataSource\"},\"glyph\":{\"id\":\"87ccd427-aa6b-41ac-9bc9-1a08e4bbe77e\",\"type\":\"Line\"},\"hover_glyph\":null,\"muted_glyph\":null,\"nonselection_glyph\":{\"id\":\"d85a3391-869f-429b-baad-267dc7f74496\",\"type\":\"Line\"},\"selection_glyph\":null,\"view\":{\"id\":\"1efbaac4-a77b-4006-a7d3-f3d99778c6f6\",\"type\":\"CDSView\"}},\"id\":\"4e3b7359-d31c-449b-9d58-b5fcff1e9ca3\",\"type\":\"GlyphRenderer\"},{\"attributes\":{},\"id\":\"94608eb4-1bca-474a-b3ee-ae712cb96289\",\"type\":\"BasicTickFormatter\"},{\"attributes\":{},\"id\":\"27a151f3-1678-4792-bab0-a19ec6c6fb79\",\"type\":\"SaveTool\"},{\"attributes\":{\"line_alpha\":0.1,\"line_color\":\"#1f77b4\",\"line_width\":2,\"x\":{\"field\":\"x\"},\"y\":{\"field\":\"y\"}},\"id\":\"d85a3391-869f-429b-baad-267dc7f74496\",\"type\":\"Line\"},{\"attributes\":{\"dimension\":1,\"plot\":{\"id\":\"91063a26-04b6-4654-9786-44eb71e61f2a\",\"subtype\":\"Figure\",\"type\":\"Plot\"},\"ticker\":{\"id\":\"bdf7584c-71f4-4f0b-97fd-b4d81c05701d\",\"type\":\"BasicTicker\"}},\"id\":\"89333d42-272d-4895-aeea-de7b39b6aa7c\",\"type\":\"Grid\"},{\"attributes\":{},\"id\":\"fbfd5ae7-ecb4-49d7-866f-8a99533d302a\",\"type\":\"HelpTool\"},{\"attributes\":{\"items\":[{\"id\":\"c327ba44-3cc5-48e8-a883-130e66fb3a71\",\"type\":\"LegendItem\"}],\"plot\":{\"id\":\"91063a26-04b6-4654-9786-44eb71e61f2a\",\"subtype\":\"Figure\",\"type\":\"Plot\"}},\"id\":\"b5fce575-4d41-4e11-85f8-4e60be877029\",\"type\":\"Legend\"},{\"attributes\":{},\"id\":\"072036bc-9b85-4f92-b591-c1b12e9baaf7\",\"type\":\"WheelZoomTool\"},{\"attributes\":{},\"id\":\"e18d3409-fe8e-489b-a3ba-e7d911f2ff39\",\"type\":\"PanTool\"},{\"attributes\":{},\"id\":\"bdf7584c-71f4-4f0b-97fd-b4d81c05701d\",\"type\":\"BasicTicker\"},{\"attributes\":{},\"id\":\"72e4d774-29c9-4cf0-8b9b-3c9e33a8d23b\",\"type\":\"ResetTool\"},{\"attributes\":{\"callback\":null},\"id\":\"292044e4-6de0-472c-8197-e98a0de0e771\",\"type\":\"DataRange1d\"}],\"root_ids\":[\"91063a26-04b6-4654-9786-44eb71e61f2a\"]},\"title\":\"Bokeh Application\",\"version\":\"0.12.14\"}};\n",
       "  var render_items = [{\"docid\":\"c56ce110-66e6-4660-9072-6c9e963f0058\",\"elementid\":\"381fc603-b727-4f74-9063-c328506c7ed4\",\"modelid\":\"91063a26-04b6-4654-9786-44eb71e61f2a\"}];\n",
       "  root.Bokeh.embed.embed_items_notebook(docs_json, render_items);\n",
       "\n",
       "  }\n",
       "  if (root.Bokeh !== undefined) {\n",
       "    embed_document(root);\n",
       "  } else {\n",
       "    var attempts = 0;\n",
       "    var timer = setInterval(function(root) {\n",
       "      if (root.Bokeh !== undefined) {\n",
       "        embed_document(root);\n",
       "        clearInterval(timer);\n",
       "      }\n",
       "      attempts++;\n",
       "      if (attempts > 100) {\n",
       "        console.log(\"Bokeh: ERROR: Unable to run BokehJS code because BokehJS library is missing\")\n",
       "        clearInterval(timer);\n",
       "      }\n",
       "    }, 10, root)\n",
       "  }\n",
       "})(window);"
      ],
      "application/vnd.bokehjs_exec.v0+json": ""
     },
     "metadata": {
      "application/vnd.bokehjs_exec.v0+json": {
       "id": "91063a26-04b6-4654-9786-44eb71e61f2a"
      }
     },
     "output_type": "display_data"
    }
   ],
   "source": [
    "# prepare some data\n",
    "x = [1, 2, 3, 4, 5]\n",
    "y = [6, 7, 2, 4, 5]\n",
    "\n",
    "# output to static HTML file\n",
    "output_file(\"lines.html\")\n",
    "\n",
    "# create a new plot with a title and axis labels\n",
    "p = figure(title=\"simple line example\", x_axis_label='x', y_axis_label='y')\n",
    "\n",
    "# add a line renderer with legend and line thickness\n",
    "p.line(x, y, legend=\"Temp.\", line_width=2)\n",
    "\n",
    "# show the results\n",
    "show(p)"
   ]
  },
  {
   "cell_type": "code",
   "execution_count": 7,
   "metadata": {},
   "outputs": [],
   "source": [
    "# prepare some data\n",
    "x = [0.1, 0.5, 1.0, 1.5, 2.0, 2.5, 3.0]\n",
    "y0 = [i**2 for i in x]\n",
    "y1 = [10**i for i in x]\n",
    "y2 = [10**(i**2) for i in x]\n",
    "\n",
    "# output to static HTML file\n",
    "output_file(\"log_lines.html\")\n",
    "\n",
    "# create a new plot\n",
    "p = figure(\n",
    "   y_axis_type=\"log\", y_range=[0.001, 10**11], title=\"log axis example\",\n",
    "   x_axis_label='sections', y_axis_label='particles'\n",
    ")\n",
    "\n",
    "# add some renderers\n",
    "p.line(x, x, legend=\"y=x\")\n",
    "p.circle(x, x, legend=\"y=x\", fill_color=\"white\", size=8)\n",
    "p.line(x, y0, legend=\"y=x^2\", line_width=3)\n",
    "p.line(x, y1, legend=\"y=10^x\", line_color=\"red\")\n",
    "p.circle(x, y1, legend=\"y=10^x\", fill_color=\"red\", line_color=\"red\", size=6)\n",
    "p.line(x, y2, legend=\"y=10^x^2\", line_color=\"orange\", line_dash=\"4 4\")\n",
    "\n",
    "# show the results\n",
    "show(p)"
   ]
  },
  {
   "cell_type": "code",
   "execution_count": null,
   "metadata": {},
   "outputs": [],
   "source": []
  }
 ],
 "metadata": {
  "kernelspec": {
   "display_name": "Python 3",
   "language": "python",
   "name": "python3"
  },
  "language_info": {
   "codemirror_mode": {
    "name": "ipython",
    "version": 3
   },
   "file_extension": ".py",
   "mimetype": "text/x-python",
   "name": "python",
   "nbconvert_exporter": "python",
   "pygments_lexer": "ipython3",
   "version": "3.5.2"
  }
 },
 "nbformat": 4,
 "nbformat_minor": 2
}
