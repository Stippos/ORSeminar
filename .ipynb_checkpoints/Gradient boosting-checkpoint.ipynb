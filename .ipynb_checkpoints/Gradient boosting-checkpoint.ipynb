{
 "cells": [
  {
   "cell_type": "code",
   "execution_count": 135,
   "metadata": {},
   "outputs": [],
   "source": [
    "from time import time\n",
    "import numpy as np\n",
    "import pandas as pd\n",
    "import matplotlib.pyplot as plt\n",
    "from sklearn.tree import DecisionTreeClassifier\n",
    "from sklearn.model_selection import train_test_split\n",
    "from sklearn.metrics import confusion_matrix\n",
    "from sklearn.cluster import DBSCAN\n",
    "from sklearn.linear_model import LogisticRegression as LR\n",
    "from sklearn.discriminant_analysis import LinearDiscriminantAnalysis as LDA\n",
    "from sklearn.ensemble import GradientBoostingClassifier as GBC\n",
    "from sklearn.model_selection import GridSearchCV"
   ]
  },
  {
   "cell_type": "code",
   "execution_count": 18,
   "metadata": {},
   "outputs": [
    {
     "data": {
      "text/html": [
       "<div>\n",
       "<table border=\"1\" class=\"dataframe\">\n",
       "  <thead>\n",
       "    <tr style=\"text-align: right;\">\n",
       "      <th></th>\n",
       "      <th>﻿ID</th>\n",
       "      <th>Balance_limit</th>\n",
       "      <th>Sex</th>\n",
       "      <th>Education</th>\n",
       "      <th>Married</th>\n",
       "      <th>Age</th>\n",
       "      <th>Sep_2017_payment_status</th>\n",
       "      <th>Aug_2017_payment_status</th>\n",
       "      <th>Jul_2017_payment_status</th>\n",
       "      <th>Jun_2017_payment_status</th>\n",
       "      <th>...</th>\n",
       "      <th>Apr_2017_bill_amount</th>\n",
       "      <th>Sep_2017_payment_amount</th>\n",
       "      <th>Aug_2017_payment_amount</th>\n",
       "      <th>July_2017_payment_amount</th>\n",
       "      <th>Jun_2017_payment_amount</th>\n",
       "      <th>May_2017_payment_amount</th>\n",
       "      <th>Apr_2017_payment_amount</th>\n",
       "      <th>Default</th>\n",
       "      <th>Location</th>\n",
       "      <th>Employer</th>\n",
       "    </tr>\n",
       "  </thead>\n",
       "  <tbody>\n",
       "    <tr>\n",
       "      <th>0</th>\n",
       "      <td>1</td>\n",
       "      <td>600</td>\n",
       "      <td>2</td>\n",
       "      <td>2</td>\n",
       "      <td>1</td>\n",
       "      <td>24</td>\n",
       "      <td>2</td>\n",
       "      <td>2</td>\n",
       "      <td>-1</td>\n",
       "      <td>-1</td>\n",
       "      <td>...</td>\n",
       "      <td>0.00</td>\n",
       "      <td>0.00</td>\n",
       "      <td>22.23</td>\n",
       "      <td>0.00</td>\n",
       "      <td>0.00</td>\n",
       "      <td>0.00</td>\n",
       "      <td>0.00</td>\n",
       "      <td>1</td>\n",
       "      <td>\"40.81610946060648, -84.9254489054052\"</td>\n",
       "      <td>First Bancorp of Indiana Inc</td>\n",
       "    </tr>\n",
       "    <tr>\n",
       "      <th>1</th>\n",
       "      <td>2</td>\n",
       "      <td>3900</td>\n",
       "      <td>2</td>\n",
       "      <td>2</td>\n",
       "      <td>2</td>\n",
       "      <td>26</td>\n",
       "      <td>-1</td>\n",
       "      <td>2</td>\n",
       "      <td>0</td>\n",
       "      <td>0</td>\n",
       "      <td>...</td>\n",
       "      <td>105.19</td>\n",
       "      <td>0.00</td>\n",
       "      <td>32.26</td>\n",
       "      <td>32.26</td>\n",
       "      <td>32.26</td>\n",
       "      <td>0.00</td>\n",
       "      <td>64.52</td>\n",
       "      <td>1</td>\n",
       "      <td>\"41.60122426668496, -86.7179404570147\"</td>\n",
       "      <td>Calumet College of Saint Joseph Inc</td>\n",
       "    </tr>\n",
       "    <tr>\n",
       "      <th>2</th>\n",
       "      <td>3</td>\n",
       "      <td>2900</td>\n",
       "      <td>2</td>\n",
       "      <td>2</td>\n",
       "      <td>2</td>\n",
       "      <td>34</td>\n",
       "      <td>0</td>\n",
       "      <td>0</td>\n",
       "      <td>0</td>\n",
       "      <td>0</td>\n",
       "      <td>...</td>\n",
       "      <td>501.58</td>\n",
       "      <td>48.97</td>\n",
       "      <td>48.39</td>\n",
       "      <td>32.26</td>\n",
       "      <td>32.26</td>\n",
       "      <td>32.26</td>\n",
       "      <td>161.29</td>\n",
       "      <td>0</td>\n",
       "      <td>\"41.44201008911672, -87.16354453239211\"</td>\n",
       "      <td>Calumet Specialty Products Partners LP</td>\n",
       "    </tr>\n",
       "    <tr>\n",
       "      <th>3</th>\n",
       "      <td>4</td>\n",
       "      <td>1600</td>\n",
       "      <td>2</td>\n",
       "      <td>2</td>\n",
       "      <td>1</td>\n",
       "      <td>37</td>\n",
       "      <td>0</td>\n",
       "      <td>0</td>\n",
       "      <td>0</td>\n",
       "      <td>0</td>\n",
       "      <td>...</td>\n",
       "      <td>953.13</td>\n",
       "      <td>64.52</td>\n",
       "      <td>65.13</td>\n",
       "      <td>38.71</td>\n",
       "      <td>35.48</td>\n",
       "      <td>34.48</td>\n",
       "      <td>32.26</td>\n",
       "      <td>0</td>\n",
       "      <td>\"41.657025875592204, -86.214483371831\"</td>\n",
       "      <td>OneMain Holdings Inc.</td>\n",
       "    </tr>\n",
       "    <tr>\n",
       "      <th>4</th>\n",
       "      <td>5</td>\n",
       "      <td>1600</td>\n",
       "      <td>1</td>\n",
       "      <td>2</td>\n",
       "      <td>1</td>\n",
       "      <td>57</td>\n",
       "      <td>-1</td>\n",
       "      <td>0</td>\n",
       "      <td>-1</td>\n",
       "      <td>0</td>\n",
       "      <td>...</td>\n",
       "      <td>617.13</td>\n",
       "      <td>64.52</td>\n",
       "      <td>1183.26</td>\n",
       "      <td>322.58</td>\n",
       "      <td>290.32</td>\n",
       "      <td>22.23</td>\n",
       "      <td>21.90</td>\n",
       "      <td>0</td>\n",
       "      <td>\"41.08799917352892, -85.02232399574875\"</td>\n",
       "      <td>Board of Trustees of Indiana University</td>\n",
       "    </tr>\n",
       "  </tbody>\n",
       "</table>\n",
       "<p>5 rows × 27 columns</p>\n",
       "</div>"
      ],
      "text/plain": [
       "   ﻿ID  Balance_limit  Sex  Education  Married  Age  Sep_2017_payment_status  \\\n",
       "0    1            600    2          2        1   24                        2   \n",
       "1    2           3900    2          2        2   26                       -1   \n",
       "2    3           2900    2          2        2   34                        0   \n",
       "3    4           1600    2          2        1   37                        0   \n",
       "4    5           1600    1          2        1   57                       -1   \n",
       "\n",
       "   Aug_2017_payment_status  Jul_2017_payment_status  Jun_2017_payment_status  \\\n",
       "0                        2                       -1                       -1   \n",
       "1                        2                        0                        0   \n",
       "2                        0                        0                        0   \n",
       "3                        0                        0                        0   \n",
       "4                        0                       -1                        0   \n",
       "\n",
       "                    ...                     Apr_2017_bill_amount  \\\n",
       "0                   ...                                     0.00   \n",
       "1                   ...                                   105.19   \n",
       "2                   ...                                   501.58   \n",
       "3                   ...                                   953.13   \n",
       "4                   ...                                   617.13   \n",
       "\n",
       "   Sep_2017_payment_amount  Aug_2017_payment_amount  July_2017_payment_amount  \\\n",
       "0                     0.00                    22.23                      0.00   \n",
       "1                     0.00                    32.26                     32.26   \n",
       "2                    48.97                    48.39                     32.26   \n",
       "3                    64.52                    65.13                     38.71   \n",
       "4                    64.52                  1183.26                    322.58   \n",
       "\n",
       "   Jun_2017_payment_amount  May_2017_payment_amount  Apr_2017_payment_amount  \\\n",
       "0                     0.00                     0.00                     0.00   \n",
       "1                    32.26                     0.00                    64.52   \n",
       "2                    32.26                    32.26                   161.29   \n",
       "3                    35.48                    34.48                    32.26   \n",
       "4                   290.32                    22.23                    21.90   \n",
       "\n",
       "   Default                                 Location  \\\n",
       "0        1   \"40.81610946060648, -84.9254489054052\"   \n",
       "1        1   \"41.60122426668496, -86.7179404570147\"   \n",
       "2        0  \"41.44201008911672, -87.16354453239211\"   \n",
       "3        0   \"41.657025875592204, -86.214483371831\"   \n",
       "4        0  \"41.08799917352892, -85.02232399574875\"   \n",
       "\n",
       "                                  Employer  \n",
       "0             First Bancorp of Indiana Inc  \n",
       "1      Calumet College of Saint Joseph Inc  \n",
       "2  Calumet Specialty Products Partners LP   \n",
       "3                   OneMain Holdings Inc.   \n",
       "4  Board of Trustees of Indiana University  \n",
       "\n",
       "[5 rows x 27 columns]"
      ]
     },
     "execution_count": 18,
     "metadata": {},
     "output_type": "execute_result"
    }
   ],
   "source": [
    "data_pd = pd.read_csv(\"dataset_raw.csv\")\n",
    "data = np.array(data_pd)\n",
    "data_pd.head()"
   ]
  },
  {
   "cell_type": "code",
   "execution_count": 21,
   "metadata": {},
   "outputs": [
    {
     "data": {
      "text/plain": [
       "29434"
      ]
     },
     "execution_count": 21,
     "metadata": {},
     "output_type": "execute_result"
    }
   ],
   "source": [
    "geoData = data[:,25]\n",
    "extractLatitude = lambda s: float(s.split(\",\")[0][1:])\n",
    "extractLognitude = lambda s: float(s.split(\",\")[1][:-1])\n",
    "\n",
    "extractLatitude = np.vectorize(extractLatitude)\n",
    "extractLognitude = np.vectorize(extractLognitude)\n",
    "\n",
    "latitude = extractLatitude(geoData)\n",
    "lognitude = extractLognitude(geoData)\n",
    "\n",
    "geoData = np.vstack((latitude, lognitude)).T\n",
    "geoData_core = geoData[np.where((geoData[:,1] > -88) & (geoData[:,1] < -84.5) & (geoData[:,0] < 42) & (geoData[:,0] > 37.1))]\n",
    "len(geoData_core)"
   ]
  },
  {
   "cell_type": "code",
   "execution_count": 42,
   "metadata": {},
   "outputs": [],
   "source": [
    "all_data = np.concatenate((data[:,1:24], geoData), 1).astype(float)\n",
    "all_labels = data[:,24].astype(float)\n",
    "\n",
    "x_train_all, x_test_all, y_train, y_test = train_test_split(all_data, all_labels) \n",
    "\n",
    "x_train = np.delete(x_train_all, np.s_[5:23], 1)\n",
    "x_test = np.delete(x_test_all, np.s_[5:23], 1)"
   ]
  },
  {
   "cell_type": "code",
   "execution_count": 127,
   "metadata": {},
   "outputs": [
    {
     "data": {
      "text/plain": [
       "GradientBoostingClassifier(criterion='friedman_mse', init=None,\n",
       "              learning_rate=0.1, loss='deviance', max_depth=3,\n",
       "              max_features=5, max_leaf_nodes=None,\n",
       "              min_impurity_decrease=0.0, min_impurity_split=None,\n",
       "              min_samples_leaf=1, min_samples_split=2,\n",
       "              min_weight_fraction_leaf=0.0, n_estimators=1000,\n",
       "              presort='auto', random_state=None, subsample=1.0, verbose=0,\n",
       "              warm_start=True)"
      ]
     },
     "execution_count": 127,
     "metadata": {},
     "output_type": "execute_result"
    }
   ],
   "source": [
    "model_all = GBC(n_estimators = 1000, max_features = 5, max_depth = 3, warm_start = True)\n",
    "model_all.fit(x_train_all, y_train)"
   ]
  },
  {
   "cell_type": "code",
   "execution_count": 129,
   "metadata": {},
   "outputs": [
    {
     "name": "stdout",
     "output_type": "stream",
     "text": [
      "Confusion matrix: \n",
      "[[5540  900]\n",
      " [ 324  736]]\n"
     ]
    },
    {
     "data": {
      "text/plain": [
       "0.83679999999999999"
      ]
     },
     "execution_count": 129,
     "metadata": {},
     "output_type": "execute_result"
    }
   ],
   "source": [
    "print(\"Confusion matrix: \\n\" + str(confusion_matrix(model_all.predict(x_test_all), y_test)))\n",
    "model_all.score(x_test_all, y_test)"
   ]
  },
  {
   "cell_type": "code",
   "execution_count": null,
   "metadata": {},
   "outputs": [],
   "source": []
  },
  {
   "cell_type": "code",
   "execution_count": 106,
   "metadata": {},
   "outputs": [
    {
     "data": {
      "text/plain": [
       "GradientBoostingClassifier(criterion='friedman_mse', init=None,\n",
       "              learning_rate=0.1, loss='deviance', max_depth=2,\n",
       "              max_features=None, max_leaf_nodes=None,\n",
       "              min_impurity_decrease=0.0, min_impurity_split=None,\n",
       "              min_samples_leaf=1, min_samples_split=2,\n",
       "              min_weight_fraction_leaf=0.0, n_estimators=450,\n",
       "              presort='auto', random_state=None, subsample=1.0, verbose=0,\n",
       "              warm_start=True)"
      ]
     },
     "execution_count": 106,
     "metadata": {},
     "output_type": "execute_result"
    }
   ],
   "source": [
    "model = GBC(n_estimators = 450, max_depth = 2, warm_start = True)\n",
    "model.fit(x_train,y_train)"
   ]
  },
  {
   "cell_type": "code",
   "execution_count": 107,
   "metadata": {},
   "outputs": [
    {
     "name": "stdout",
     "output_type": "stream",
     "text": [
      "0.792133333333\n",
      "Confusion matrix: \n",
      "[[5591 1286]\n",
      " [ 273  350]]\n"
     ]
    }
   ],
   "source": [
    "print(model.score(x_test, y_test))\n",
    "print(\"Confusion matrix: \\n\" + str(confusion_matrix(model.predict(x_test), y_test)))"
   ]
  },
  {
   "cell_type": "code",
   "execution_count": 91,
   "metadata": {},
   "outputs": [
    {
     "name": "stdout",
     "output_type": "stream",
     "text": [
      "Median: 0.495057660626\n",
      "Mean: 0.437523301063\n"
     ]
    },
    {
     "data": {
      "image/png": "[encoded data removed]",
      "text/plain": [
       "<matplotlib.figure.Figure at 0x7f9dcd375320>"
      ]
     },
     "metadata": {},
     "output_type": "display_data"
    }
   ],
   "source": [
    "probabilities = model.predict_proba(x_test)\n",
    "percentages = []\n",
    "size = []\n",
    "total = len(x_test)\n",
    "try:\n",
    "    for i in range(0,100):\n",
    "        defaulters = len(np.where(y_test[np.where(probabilities[:,1] > i / 100)] == 1.0)[0])\n",
    "        non_defaulters =  len(np.where(y_test[np.where(probabilities[:,1] > i / 100)] == 0)[0])\n",
    "        percentages.append(defaulters / (defaulters + non_defaulters))\n",
    "        size.append((defaulters + non_defaulters) / total) \n",
    "except ZeroDivisionError:\n",
    "    np.array(percentages)\n",
    "    print(\"Median: \" + str(np.median(percentages)))\n",
    "    print(\"Mean: \" + str(np.mean(percentages)))\n",
    "    percentages[25]\n",
    "\n",
    "    plt.figure(1,(7,14))\n",
    "    plt.subplot(211)\n",
    "    plt.plot(percentages)\n",
    "    plt.plot(size)\n",
    "    plt.xlabel(\"Predicted probability (%)\")\n",
    "    plt.ylabel(\"Percentage of defaulters\")\n"
   ]
  },
  {
   "cell_type": "code",
   "execution_count": 82,
   "metadata": {},
   "outputs": [
    {
     "name": "stdout",
     "output_type": "stream",
     "text": [
      "Median: 0.724425359939\n",
      "Mean: 0.678397996871\n"
     ]
    },
    {
     "data": {
      "image/png": "[encoded data removed]",
      "text/plain": [
       "<matplotlib.figure.Figure at 0x7f9dccfa8828>"
      ]
     },
     "metadata": {},
     "output_type": "display_data"
    }
   ],
   "source": [
    "probabilities = model_all.predict_proba(all_data)\n",
    "percentages = []\n",
    "size = []\n",
    "total = len(all_data)\n",
    "try:\n",
    "    for i in range(0,100):\n",
    "        defaulters = len(np.where(all_labels[np.where(probabilities[:,1] > i / 100)] == 1.0)[0])\n",
    "        non_defaulters =  len(np.where(all_labels[np.where(probabilities[:,1] > i / 100)] == 0)[0])\n",
    "        percentages.append(defaulters / (defaulters + non_defaulters))\n",
    "        size.append((defaulters + non_defaulters) / total) \n",
    "except ZeroDivisionError:\n",
    "    np.array(percentages)\n",
    "    print(\"Median: \" + str(np.median(percentages)))\n",
    "    print(\"Mean: \" + str(np.mean(percentages)))\n",
    "    percentages[25]\n",
    "\n",
    "    plt.figure(1,(7,14))\n",
    "    plt.subplot(211)\n",
    "    plt.plot(percentages)\n",
    "    plt.plot(size)\n",
    "    plt.xlabel(\"Predicted probability (%)\")\n",
    "    plt.ylabel(\"Percentage of defaulters\")"
   ]
  },
  {
   "cell_type": "code",
   "execution_count": 84,
   "metadata": {},
   "outputs": [
    {
     "data": {
      "text/plain": [
       "array([ 0.1207774 ,  0.01834035,  0.03206361,  0.03770516,  0.05498848,\n",
       "        0.30607587,  0.43004913])"
      ]
     },
     "execution_count": 84,
     "metadata": {},
     "output_type": "execute_result"
    }
   ],
   "source": [
    "model.feature_importances_"
   ]
  },
  {
   "cell_type": "code",
   "execution_count": null,
   "metadata": {},
   "outputs": [],
   "source": [
    "model_all.feature_importances_"
   ]
  },
  {
   "cell_type": "code",
   "execution_count": 136,
   "metadata": {},
   "outputs": [],
   "source": [
    "clf = GBC(n_estimators=100)"
   ]
  },
  {
   "cell_type": "code",
   "execution_count": 137,
   "metadata": {},
   "outputs": [],
   "source": [
    "# Utility function to report best scores\n",
    "def report(results, n_top=3):\n",
    "    for i in range(1, n_top + 1):\n",
    "        candidates = np.flatnonzero(results['rank_test_score'] == i)\n",
    "        for candidate in candidates:\n",
    "            print(\"Model with rank: {0}\".format(i))\n",
    "            print(\"Mean validation score: {0:.3f} (std: {1:.3f})\".format(\n",
    "                  results['mean_test_score'][candidate],\n",
    "                  results['std_test_score'][candidate]))\n",
    "            print(\"Parameters: {0}\".format(results['params'][candidate]))\n",
    "            print(\"\")"
   ]
  },
  {
   "cell_type": "code",
   "execution_count": 148,
   "metadata": {},
   "outputs": [],
   "source": [
    "param_grid = {\"max_depth\": [2, 3, 4, None],\n",
    "              \"max_features\": [3, 4, 5, 6, 7],\n",
    "              \"min_samples_split\": [2, 3, 10, 15, 30],\n",
    "              \"min_samples_leaf\": [1, 3, 10, 20, 30]}"
   ]
  },
  {
   "cell_type": "code",
   "execution_count": 150,
   "metadata": {},
   "outputs": [
    {
     "name": "stdout",
     "output_type": "stream",
     "text": [
      "GridSearchCV took 2194.04 seconds for 500 candidate parameter settings.\n",
      "Model with rank: 1\n",
      "Mean validation score: 0.788 (std: 0.002)\n",
      "Parameters: {'max_features': 4, 'min_samples_split': 15, 'max_depth': 4, 'min_samples_leaf': 3}\n",
      "\n",
      "Model with rank: 2\n",
      "Mean validation score: 0.787 (std: 0.001)\n",
      "Parameters: {'max_features': 6, 'min_samples_split': 30, 'max_depth': 4, 'min_samples_leaf': 10}\n",
      "\n",
      "Model with rank: 3\n",
      "Mean validation score: 0.787 (std: 0.002)\n",
      "Parameters: {'max_features': 3, 'min_samples_split': 15, 'max_depth': 4, 'min_samples_leaf': 1}\n",
      "\n"
     ]
    }
   ],
   "source": [
    "grid_search = GridSearchCV(clf, param_grid=param_grid, n_jobs = 4)\n",
    "start = time()\n",
    "grid_search.fit(x_train, y_train)\n",
    "\n",
    "print(\"GridSearchCV took %.2f seconds for %d candidate parameter settings.\"\n",
    "      % (time() - start, len(grid_search.cv_results_['params'])))\n",
    "report(grid_search.cv_results_)"
   ]
  }
 ],
 "metadata": {
  "kernelspec": {
   "display_name": "Python 3",
   "language": "python",
   "name": "python3"
  },
  "language_info": {
   "codemirror_mode": {
    "name": "ipython",
    "version": 3
   },
   "file_extension": ".py",
   "mimetype": "text/x-python",
   "name": "python",
   "nbconvert_exporter": "python",
   "pygments_lexer": "ipython3",
   "version": "3.5.2"
  }
 },
 "nbformat": 4,
 "nbformat_minor": 2
}
