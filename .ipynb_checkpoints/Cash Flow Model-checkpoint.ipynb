{
 "cells": [
  {
   "cell_type": "code",
   "execution_count": 1,
   "metadata": {
    "collapsed": true
   },
   "outputs": [],
   "source": [
    "import numpy as np\n",
    "import pandas as pd\n",
    "import matplotlib.pyplot as plt"
   ]
  },
  {
   "cell_type": "code",
   "execution_count": 2,
   "metadata": {},
   "outputs": [
    {
     "data": {
      "text/html": [
       "<div>\n",
       "<style>\n",
       "    .dataframe thead tr:only-child th {\n",
       "        text-align: right;\n",
       "    }\n",
       "\n",
       "    .dataframe thead th {\n",
       "        text-align: left;\n",
       "    }\n",
       "\n",
       "    .dataframe tbody tr th {\n",
       "        vertical-align: top;\n",
       "    }\n",
       "</style>\n",
       "<table border=\"1\" class=\"dataframe\">\n",
       "  <thead>\n",
       "    <tr style=\"text-align: right;\">\n",
       "      <th></th>\n",
       "      <th>ID</th>\n",
       "      <th>Balance_limit</th>\n",
       "      <th>Sex</th>\n",
       "      <th>Education</th>\n",
       "      <th>Married</th>\n",
       "      <th>Age</th>\n",
       "      <th>Sep_2017_payment_status</th>\n",
       "      <th>Aug_2017_payment_status</th>\n",
       "      <th>Jul_2017_payment_status</th>\n",
       "      <th>Jun_2017_payment_status</th>\n",
       "      <th>...</th>\n",
       "      <th>Apr_2017_bill_amount</th>\n",
       "      <th>Sep_2017_payment_amount</th>\n",
       "      <th>Aug_2017_payment_amount</th>\n",
       "      <th>July_2017_payment_amount</th>\n",
       "      <th>Jun_2017_payment_amount</th>\n",
       "      <th>May_2017_payment_amount</th>\n",
       "      <th>Apr_2017_payment_amount</th>\n",
       "      <th>Default</th>\n",
       "      <th>Location</th>\n",
       "      <th>Employer</th>\n",
       "    </tr>\n",
       "  </thead>\n",
       "  <tbody>\n",
       "    <tr>\n",
       "      <th>0</th>\n",
       "      <td>1</td>\n",
       "      <td>600</td>\n",
       "      <td>2</td>\n",
       "      <td>2</td>\n",
       "      <td>1</td>\n",
       "      <td>24</td>\n",
       "      <td>2</td>\n",
       "      <td>2</td>\n",
       "      <td>-1</td>\n",
       "      <td>-1</td>\n",
       "      <td>...</td>\n",
       "      <td>0.00</td>\n",
       "      <td>0.00</td>\n",
       "      <td>22.23</td>\n",
       "      <td>0.00</td>\n",
       "      <td>0.00</td>\n",
       "      <td>0.00</td>\n",
       "      <td>0.00</td>\n",
       "      <td>1</td>\n",
       "      <td>\"40.81610946060648, -84.9254489054052\"</td>\n",
       "      <td>First Bancorp of Indiana Inc</td>\n",
       "    </tr>\n",
       "    <tr>\n",
       "      <th>1</th>\n",
       "      <td>2</td>\n",
       "      <td>3900</td>\n",
       "      <td>2</td>\n",
       "      <td>2</td>\n",
       "      <td>2</td>\n",
       "      <td>26</td>\n",
       "      <td>-1</td>\n",
       "      <td>2</td>\n",
       "      <td>0</td>\n",
       "      <td>0</td>\n",
       "      <td>...</td>\n",
       "      <td>105.19</td>\n",
       "      <td>0.00</td>\n",
       "      <td>32.26</td>\n",
       "      <td>32.26</td>\n",
       "      <td>32.26</td>\n",
       "      <td>0.00</td>\n",
       "      <td>64.52</td>\n",
       "      <td>1</td>\n",
       "      <td>\"41.60122426668496, -86.7179404570147\"</td>\n",
       "      <td>Calumet College of Saint Joseph Inc</td>\n",
       "    </tr>\n",
       "    <tr>\n",
       "      <th>2</th>\n",
       "      <td>3</td>\n",
       "      <td>2900</td>\n",
       "      <td>2</td>\n",
       "      <td>2</td>\n",
       "      <td>2</td>\n",
       "      <td>34</td>\n",
       "      <td>0</td>\n",
       "      <td>0</td>\n",
       "      <td>0</td>\n",
       "      <td>0</td>\n",
       "      <td>...</td>\n",
       "      <td>501.58</td>\n",
       "      <td>48.97</td>\n",
       "      <td>48.39</td>\n",
       "      <td>32.26</td>\n",
       "      <td>32.26</td>\n",
       "      <td>32.26</td>\n",
       "      <td>161.29</td>\n",
       "      <td>0</td>\n",
       "      <td>\"41.44201008911672, -87.16354453239211\"</td>\n",
       "      <td>Calumet Specialty Products Partners LP</td>\n",
       "    </tr>\n",
       "    <tr>\n",
       "      <th>3</th>\n",
       "      <td>4</td>\n",
       "      <td>1600</td>\n",
       "      <td>2</td>\n",
       "      <td>2</td>\n",
       "      <td>1</td>\n",
       "      <td>37</td>\n",
       "      <td>0</td>\n",
       "      <td>0</td>\n",
       "      <td>0</td>\n",
       "      <td>0</td>\n",
       "      <td>...</td>\n",
       "      <td>953.13</td>\n",
       "      <td>64.52</td>\n",
       "      <td>65.13</td>\n",
       "      <td>38.71</td>\n",
       "      <td>35.48</td>\n",
       "      <td>34.48</td>\n",
       "      <td>32.26</td>\n",
       "      <td>0</td>\n",
       "      <td>\"41.657025875592204, -86.214483371831\"</td>\n",
       "      <td>OneMain Holdings Inc.</td>\n",
       "    </tr>\n",
       "    <tr>\n",
       "      <th>4</th>\n",
       "      <td>5</td>\n",
       "      <td>1600</td>\n",
       "      <td>1</td>\n",
       "      <td>2</td>\n",
       "      <td>1</td>\n",
       "      <td>57</td>\n",
       "      <td>-1</td>\n",
       "      <td>0</td>\n",
       "      <td>-1</td>\n",
       "      <td>0</td>\n",
       "      <td>...</td>\n",
       "      <td>617.13</td>\n",
       "      <td>64.52</td>\n",
       "      <td>1183.26</td>\n",
       "      <td>322.58</td>\n",
       "      <td>290.32</td>\n",
       "      <td>22.23</td>\n",
       "      <td>21.90</td>\n",
       "      <td>0</td>\n",
       "      <td>\"41.08799917352892, -85.02232399574875\"</td>\n",
       "      <td>Board of Trustees of Indiana University</td>\n",
       "    </tr>\n",
       "  </tbody>\n",
       "</table>\n",
       "<p>5 rows × 27 columns</p>\n",
       "</div>"
      ],
      "text/plain": [
       "   ID  Balance_limit  Sex  Education  Married  Age  Sep_2017_payment_status  \\\n",
       "0   1            600    2          2        1   24                        2   \n",
       "1   2           3900    2          2        2   26                       -1   \n",
       "2   3           2900    2          2        2   34                        0   \n",
       "3   4           1600    2          2        1   37                        0   \n",
       "4   5           1600    1          2        1   57                       -1   \n",
       "\n",
       "   Aug_2017_payment_status  Jul_2017_payment_status  Jun_2017_payment_status  \\\n",
       "0                        2                       -1                       -1   \n",
       "1                        2                        0                        0   \n",
       "2                        0                        0                        0   \n",
       "3                        0                        0                        0   \n",
       "4                        0                       -1                        0   \n",
       "\n",
       "                    ...                     Apr_2017_bill_amount  \\\n",
       "0                   ...                                     0.00   \n",
       "1                   ...                                   105.19   \n",
       "2                   ...                                   501.58   \n",
       "3                   ...                                   953.13   \n",
       "4                   ...                                   617.13   \n",
       "\n",
       "   Sep_2017_payment_amount  Aug_2017_payment_amount  July_2017_payment_amount  \\\n",
       "0                     0.00                    22.23                      0.00   \n",
       "1                     0.00                    32.26                     32.26   \n",
       "2                    48.97                    48.39                     32.26   \n",
       "3                    64.52                    65.13                     38.71   \n",
       "4                    64.52                  1183.26                    322.58   \n",
       "\n",
       "   Jun_2017_payment_amount  May_2017_payment_amount  Apr_2017_payment_amount  \\\n",
       "0                     0.00                     0.00                     0.00   \n",
       "1                    32.26                     0.00                    64.52   \n",
       "2                    32.26                    32.26                   161.29   \n",
       "3                    35.48                    34.48                    32.26   \n",
       "4                   290.32                    22.23                    21.90   \n",
       "\n",
       "   Default                                 Location  \\\n",
       "0        1   \"40.81610946060648, -84.9254489054052\"   \n",
       "1        1   \"41.60122426668496, -86.7179404570147\"   \n",
       "2        0  \"41.44201008911672, -87.16354453239211\"   \n",
       "3        0   \"41.657025875592204, -86.214483371831\"   \n",
       "4        0  \"41.08799917352892, -85.02232399574875\"   \n",
       "\n",
       "                                  Employer  \n",
       "0             First Bancorp of Indiana Inc  \n",
       "1      Calumet College of Saint Joseph Inc  \n",
       "2  Calumet Specialty Products Partners LP   \n",
       "3                   OneMain Holdings Inc.   \n",
       "4  Board of Trustees of Indiana University  \n",
       "\n",
       "[5 rows x 27 columns]"
      ]
     },
     "execution_count": 2,
     "metadata": {},
     "output_type": "execute_result"
    }
   ],
   "source": [
    "data = pd.read_csv(\"dataset_raw.csv\")\n",
    "data_na = np.array(data)\n",
    "data.head()"
   ]
  },
  {
   "cell_type": "markdown",
   "metadata": {},
   "source": [
    "## NIBT\n",
    "= Non-interest income + Net interest income - Costs\n",
    "\n",
    "### Non interest income \n",
    "- Annual fees = number of credit cards x annual fee\n",
    "- Cash advance fees = Annual cash advance volume x average fee \n",
    "- Penalty fees = Penalty occurance x Penalty fee\n",
    "- Fees = Annual fees + Cash Advance Fees + Penalty Fees\n",
    "- Interchange = Interchange rate x Purchase volume\n",
    "- Non-interest income = Fees + Interchange\n",
    "\n",
    "\n",
    "### Net interest income \n",
    "- Outstanding balances = Purchase volume x Balances as percentage of PV \n",
    "- Net interest income = Outstanding balance x Spread margin\n",
    "\n",
    "### Costs\n",
    "- Loss rate = Default rate x Collection %\n",
    "- Losses = Loss rate x Outstanding balance\n",
    "- Operating expenses = Outstanding balances x Opex rate\n",
    "- Reward expenses = Purchase volume x Rewards rate\n",
    "- Costs = Reward expenses + Operating expenses + Losses\n",
    "\n",
    "\n",
    "### What we know\n",
    "- Households = 2,2M\n",
    "- Of which 85% have credit card accounts\n",
    "- 60% of credit card accounts are active\n",
    "- Average number of cards per account = 1.3\n",
    "- Average annual purchase volume = 5000 \n",
    "- Opex rate = 5%\n",
    "- Avg. interchange rate = 2%\n",
    "- 30% of purchase volume outstanding\n",
    "- Spread margin 1.25%\n",
    "- Cash advance fee = 5%\n",
    "- Late payment fee = 20\n",
    "- Annual credit card fee = 75\n",
    "- 300 average cash advance volume\n",
    "\n",
    "### What we can find out using the data\n",
    "- Penalty occurance\n",
    "- Default rate\n",
    "\n",
    "### Assumptions \n",
    "- Annual active credit cards is calculted as 2200000 x 0.85 x 1.3 x 0.60. This is a pretty big assumption since it is probable the people who like to use credit cards have more credit cards than those who don't use them. My conjecture is that average credit cards per active account < average credit cards per account. This is also a pretty important number that affect most of the calculations so maybe more consideration could be put into this\n",
    "- Annual purchase and cash advance volumes are considering only active credit card accounts\n",
    "- Collection rate is totally pulled out of the wind since I don't know if there is a way to argue a number based on data or the source material. Maybe we could cite a source or something. Collections also have costs.\n",
    "- Spread margin is the interest paid on outstanding balance. It's value is yearly interest divided by 12 and it is compunded monthly. I didn't find anything sensible about spread mergins with a quick googling, but in my opinion this is one interpretation that makes sense considering how net interest income is calculated \n",
    "- In the dataset the amount of unused cards is around 5% but the source material states the value to be 40%. For the calculations regarding the dataset we use active credit cards since, based on the data, it is highly likely that the dataset contains only active credit cards. \n",
    "- You can only have one late payment fee per month. This is probably not the case but in this simple model it is assumed you get only one late payment fee for not paying you bills each month. However late payment fees are a pretty small cash flow so the impact of this assumption is not as huge as for example collection percentage's.\n",
    "- When a credit card defaults the money lost is the September bill amount times the collection rate.\n",
    "- In addition to the previous point. Negative bill amounts are interpreted as the bank owing money to the customer or there being positive balance on his account. Anyway, when this kind of customer defaults, it is assumed that there are no financial implications to the bank."
   ]
  },
  {
   "cell_type": "code",
   "execution_count": 3,
   "metadata": {
    "collapsed": true
   },
   "outputs": [],
   "source": [
    "#Known variables\n",
    "households = 2200000\n",
    "ccAccountsPerHousehold = 0.85\n",
    "fractionOfActiveCCAccounts = 0.6\n",
    "avgCCsPerAccount = 1.3\n",
    "avgAnnualPV = 5000\n",
    "opexRate = 0.05\n",
    "avgInterchangeRate = 0.02\n",
    "shareOfPVOutstanding = 0.3\n",
    "spreadMargin = 0.0125\n",
    "cashAdvanceFee = 0.05\n",
    "rewardRate = 0.05\n",
    "latePaymentFee = 20\n",
    "annualCCFee = 75\n",
    "avgCashAdvanceVol = 300\n",
    "#the amount of money recovered in default\n",
    "collectionEfficiency = 0.8"
   ]
  },
  {
   "cell_type": "code",
   "execution_count": 4,
   "metadata": {
    "collapsed": true
   },
   "outputs": [],
   "source": [
    "#Variables that are derivable with straight calculation\n",
    "totalAccounts = households * ccAccountsPerHousehold\n",
    "activeAccounts = totalAccounts * fractionOfActiveCCAccounts\n",
    "totalCards = totalAccounts * avgCCsPerAccount "
   ]
  },
  {
   "cell_type": "code",
   "execution_count": 5,
   "metadata": {},
   "outputs": [
    {
     "data": {
      "text/plain": [
       "1683000.0"
      ]
     },
     "execution_count": 5,
     "metadata": {},
     "output_type": "execute_result"
    }
   ],
   "source": [
    "#this is a pretty big assumption since it is probable the people who like to use credit cards \n",
    "#don't have as many credit cards as those who don't use them. \n",
    "#My conjecture is average credit cards per active account < average credit cards per account.\n",
    "#This is also a pretty important number so maybe more consideration coul be put into this\n",
    "\n",
    "activeCards = activeAccounts * avgCCsPerAccount\n",
    "\n",
    "#If we assume inactive accounts have usually just one card we get the amount of active cards to be\n",
    "\n",
    "#-----UNCOMMENT IF YOU WANT TO USE THIS ASSUMPTION FOR ACTIVE CARDS-----#\n",
    "\n",
    "activeCards = totalCards - (1 - fractionOfActiveCCAccounts) * totalAccounts \n",
    "\n",
    "#-----------------------------------------------------------------------#\n",
    "\n",
    "activeCards\n",
    "\n",
    "#This changes the amount of active cards by more than 2000000 which is nearly 15% \n",
    "#of the total amount of active cards but of course this is just speculation."
   ]
  },
  {
   "cell_type": "code",
   "execution_count": 6,
   "metadata": {},
   "outputs": [
    {
     "data": {
      "text/plain": [
       "8415000000.0"
      ]
     },
     "execution_count": 6,
     "metadata": {},
     "output_type": "execute_result"
    }
   ],
   "source": [
    "totalPV = avgAnnualPV * activeCards\n",
    "outstandingPV = totalPV * shareOfPVOutstanding\n",
    "\n",
    "totalPV"
   ]
  },
  {
   "cell_type": "code",
   "execution_count": 7,
   "metadata": {},
   "outputs": [
    {
     "data": {
      "text/plain": [
       "2462453.4"
      ]
     },
     "execution_count": 7,
     "metadata": {},
     "output_type": "execute_result"
    }
   ],
   "source": [
    "# Calculating amount of late payments from the dataset and scaling that for the whole year and total credit cards\n",
    "# This is done by taking the amount of positive numbers in the payment status columns and multiplyin by 20\n",
    "# It is assumed you get only one late payment fee each month of missing paying the bill.\n",
    "\n",
    "latePaymentsRatio = 0\n",
    "\n",
    "for j in range(6,11):\n",
    "    for i in range(0,30000):\n",
    "        if(data_na[i,j] > 0):\n",
    "            latePaymentsRatio = latePaymentsRatio + 1\n",
    "        \n",
    "latePayments = latePaymentsRatio / (6 * 30000) * 12 * activeCards\n",
    "latePayments\n"
   ]
  },
  {
   "cell_type": "code",
   "execution_count": 8,
   "metadata": {},
   "outputs": [
    {
     "data": {
      "text/plain": [
       "233052880.6055998"
      ]
     },
     "execution_count": 8,
     "metadata": {},
     "output_type": "execute_result"
    }
   ],
   "source": [
    "#Calculating default rate and scaling it for the whole customer base'\n",
    "#Only the positive September bill amounts are considered and \n",
    "#the sum is multiplied by the average collection efficiency\n",
    "\n",
    "posDefaulters = np.where((data_na[:,12] * data_na[:,24]) > 0)\n",
    "losses = sum(data_na[posDefaulters][:,12]) / 30000 * activeCards * (1 - collectionEfficiency) * 2\n",
    "losses"
   ]
  },
  {
   "cell_type": "code",
   "execution_count": 9,
   "metadata": {},
   "outputs": [
    {
     "data": {
      "text/plain": [
       "313722697.7230593"
      ]
     },
     "execution_count": 9,
     "metadata": {},
     "output_type": "execute_result"
    }
   ],
   "source": [
    "#Calculating amount of outstanding balance each month, \n",
    "#applying interest rate and scaling for the whole year and customer space and total credit cards\n",
    "#In the dataset we can see the oustanding balances for each month and calculate\n",
    "#compounding interest this way for each month.\n",
    "\n",
    "netInterest = 0\n",
    "\n",
    "for j in range(12,17):\n",
    "    for i in range(0,30000):\n",
    "        if(data_na[i,j] > 0):\n",
    "            netInterest = netInterest + data_na[i,j] * spreadMargin\n",
    "            \n",
    "netInterest = netInterest / (6 * 30000) * 12 * activeCards\n",
    "netInterest"
   ]
  },
  {
   "cell_type": "code",
   "execution_count": 10,
   "metadata": {},
   "outputs": [
    {
     "data": {
      "text/plain": [
       "378675000.00000006"
      ]
     },
     "execution_count": 10,
     "metadata": {},
     "output_type": "execute_result"
    }
   ],
   "source": [
    "#Other way to calcultate the net interest is with the given values \n",
    "#It would be highly ulikely that the interest margin bank gets is 1.25%.\n",
    "#I assume that this is the interest rate that is compounded monthly \n",
    "#It is assumed that each month the oustanding balance is pretty much equal\n",
    "#and that the previous months interest is paid away instantly in most cases. \n",
    "#This means that the interest bank gets is  \n",
    "\n",
    "netInterest_given = 12 * spreadMargin * outstandingPV\n",
    "netInterest_given\n",
    "\n",
    "# The value is almost exactly the same as the one given by the one calculted from the data\n",
    "# It seems that it doesn't matter that much which way you calculate the interest"
   ]
  },
  {
   "cell_type": "code",
   "execution_count": 11,
   "metadata": {
    "collapsed": true
   },
   "outputs": [],
   "source": [
    "#Fees\n",
    "annualFees = totalCards * annualCCFee\n",
    "cashAdvanceFees = activeAccounts * avgCashAdvanceVol * cashAdvanceFee\n",
    "penaltyFees = latePayments * latePaymentFee\n",
    "fees = annualFees + cashAdvanceFees + penaltyFees\n",
    "interchange = totalPV * avgInterchangeRate\n",
    "nonInterestIncome = interchange + fees \n",
    "\n",
    "\n",
    "#Costs\n",
    "losses = losses\n",
    "operatingExpenses = outstandingPV * opexRate\n",
    "rewardExpenses = totalPV * rewardRate\n",
    "costs = losses + operatingExpenses + rewardExpenses"
   ]
  },
  {
   "cell_type": "code",
   "execution_count": 12,
   "metadata": {},
   "outputs": [
    {
     "name": "stdout",
     "output_type": "stream",
     "text": [
      "Cards:\n",
      "     Total credit card accounts: 1870000.0\n",
      "     Active accounts: 1122000.0\n",
      "     Active credit cards: 1683000.0\n",
      "\n",
      "Net interest income: \n",
      "     Purchase volume: 8415000000.0\n",
      "     Outstanding purchase volume: 2524500000.0\n",
      "     Net interest income (data): 313722697.7230593\n",
      "     Net interest income (given values): 378675000.00000006\n",
      "\n",
      "Non-interest income:\n",
      "     Interchange: 168300000.0\n",
      "     Annual fees: 182325000.0\n",
      "     Cash advance fees: 16830000.0\n",
      "     Late payment penalty fees: 49249068.0\n",
      "     Total fees: 248404068.0\n",
      "\n",
      "Costs: \n",
      "     Losses: 233052880.6055998\n",
      "     Operating expenses: 126225000.0\n",
      "     Reward expenses: 420750000.0\n",
      "     Total costs: 780027880.6055998\n",
      "\n",
      "NIBT: 15351187.394400239\n"
     ]
    }
   ],
   "source": [
    "#Prints out the values of different key numbers\n",
    "print(\"Cards:\")\n",
    "print(\"     Total credit card accounts: \" + str(totalAccounts))\n",
    "print(\"     Active accounts: \" + str(activeAccounts))\n",
    "print(\"     Active credit cards: \" + str(activeCards))\n",
    "print(\"\")\n",
    "print(\"Net interest income: \")\n",
    "print(\"     Purchase volume: \" + str(totalPV))\n",
    "print(\"     Outstanding purchase volume: \" + str(outstandingPV))\n",
    "print(\"     Net interest income (data): \" + str(netInterest))\n",
    "print(\"     Net interest income (given values): \" + str(netInterest_given))\n",
    "print(\"\")\n",
    "print(\"Non-interest income:\")\n",
    "print(\"     Interchange: \" + str(interchange))\n",
    "print(\"     Annual fees: \" + str(annualFees))\n",
    "print(\"     Cash advance fees: \" + str(cashAdvanceFees))\n",
    "print(\"     Late payment penalty fees: \" + str(penaltyFees))\n",
    "print(\"     Total fees: \" + str(annualFees + cashAdvanceFees + penaltyFees))\n",
    "print(\"\")\n",
    "print(\"Costs: \")\n",
    "print(\"     Losses: \" + str(losses))\n",
    "print(\"     Operating expenses: \" + str(operatingExpenses))\n",
    "print(\"     Reward expenses: \" + str(rewardExpenses))\n",
    "print(\"     Total costs: \" + str(costs))\n",
    "print(\"\")\n",
    "print(\"NIBT: \" + str(nonInterestIncome + netInterest_given - costs))\n"
   ]
  },
  {
   "cell_type": "raw",
   "metadata": {},
   "source": [
    "## Problems of the model\n",
    "\n"
   ]
  },
  {
   "cell_type": "markdown",
   "metadata": {},
   "source": [
    "## Questions and discussion\n",
    "\n",
    "- What is the selection criteria of the dataset? Did some customers default during the 6 month period or did all defaulters default after the period? This could create a pretty big bias.\n",
    "- This model is extremely sensitive to fluctutions in the collections success and the profitability of the business seems to be entirely based on how much money can be recovered in the case customer defaults.\n",
    "- The benefit we can receive from our default predicting model could be that if we recognize a group of people who has a higher risk of defaulting we can filter them out from our data and see how that affects the bottom line of the bank. \n",
    "- Also the developement of the outstanding balance for a defaulting cutomer could be investigated, but I'm not sure how.\n"
   ]
  },
  {
   "cell_type": "markdown",
   "metadata": {},
   "source": [
    "# Financial impact of a customer"
   ]
  },
  {
   "cell_type": "code",
   "execution_count": 13,
   "metadata": {
    "collapsed": true
   },
   "outputs": [],
   "source": [
    "def financialImpact(paymentHistory):\n",
    "    yearlyFee = 75\n",
    "    latePayments = len(np.where(paymentHistory[0:5] > 0)[0])* 20    \n",
    "    \n",
    "    interest = 0\n",
    "    for i in range(6, 12):\n",
    "        if(paymentHistory[i] > 0):\n",
    "            interest += paymentHistory[i] * spreadMargin\n",
    "    \n",
    "    default = 0\n",
    "    if(paymentHistory[6] > 0):\n",
    "        default = paymentHistory[6] * paymentHistory[18] * (1 - collectionEfficiency)\n",
    "        \n",
    "    purchaseVolume = paymentHistory[6]\n",
    "    for i in range(12, 18):\n",
    "        if(paymentHistory[i] > 0):\n",
    "            purchaseVolume += paymentHistory[i]\n",
    "    \n",
    "    interchange = purchaseVolume * avgInterchangeRate\n",
    "    \n",
    "    rewards = purchaseVolume * rewardRate\n",
    "    \n",
    "    outstanding = 0\n",
    "\n",
    "    for i in range(6, 12):\n",
    "        if(paymentHistory[i] > 0):\n",
    "            outstanding += paymentHistory[i]\n",
    "\n",
    "    cashAdvance = cashAdvanceFee * 300\n",
    "            \n",
    "    opex = outstanding / 6 * 0.05\n",
    "    \n",
    "    impact =  yearlyFee + latePayments + interest + interchange + cashAdvance - default - opex - rewards\n",
    "    \n",
    "    return impact"
   ]
  },
  {
   "cell_type": "code",
   "execution_count": 16,
   "metadata": {},
   "outputs": [
    {
     "ename": "ValueError",
     "evalue": "bins must increase monotonically.",
     "output_type": "error",
     "traceback": [
      "\u001b[1;31m---------------------------------------------------------------------------\u001b[0m",
      "\u001b[1;31mValueError\u001b[0m                                Traceback (most recent call last)",
      "\u001b[1;32m<ipython-input-16-e137f91e1ede>\u001b[0m in \u001b[0;36m<module>\u001b[1;34m()\u001b[0m\n\u001b[0;32m      4\u001b[0m     \u001b[0mimpacts\u001b[0m\u001b[1;33m.\u001b[0m\u001b[0mappend\u001b[0m\u001b[1;33m(\u001b[0m\u001b[0mfinancialImpact\u001b[0m\u001b[1;33m(\u001b[0m\u001b[0mdata_na\u001b[0m\u001b[1;33m[\u001b[0m\u001b[0mi\u001b[0m\u001b[1;33m,\u001b[0m\u001b[1;36m6\u001b[0m\u001b[1;33m:\u001b[0m\u001b[1;36m25\u001b[0m\u001b[1;33m]\u001b[0m\u001b[1;33m)\u001b[0m\u001b[1;33m)\u001b[0m\u001b[1;33m\u001b[0m\u001b[0m\n\u001b[0;32m      5\u001b[0m \u001b[1;33m\u001b[0m\u001b[0m\n\u001b[1;32m----> 6\u001b[1;33m \u001b[0mplt\u001b[0m\u001b[1;33m.\u001b[0m\u001b[0mhist\u001b[0m\u001b[1;33m(\u001b[0m\u001b[0mimpacts\u001b[0m\u001b[1;33m,\u001b[0m \u001b[0mbins\u001b[0m \u001b[1;33m=\u001b[0m \u001b[1;36m100\u001b[0m\u001b[1;33m*\u001b[0m\u001b[0mlist\u001b[0m\u001b[1;33m(\u001b[0m\u001b[0mrange\u001b[0m\u001b[1;33m(\u001b[0m\u001b[1;33m-\u001b[0m\u001b[1;36m10\u001b[0m\u001b[1;33m,\u001b[0m\u001b[1;36m5\u001b[0m\u001b[1;33m)\u001b[0m\u001b[1;33m)\u001b[0m\u001b[1;33m)\u001b[0m\u001b[1;33m\u001b[0m\u001b[0m\n\u001b[0m\u001b[0;32m      7\u001b[0m \u001b[0mplt\u001b[0m\u001b[1;33m.\u001b[0m\u001b[0mshow\u001b[0m\u001b[1;33m(\u001b[0m\u001b[1;33m)\u001b[0m\u001b[1;33m\u001b[0m\u001b[0m\n",
      "\u001b[1;32m~\\Anaconda3\\lib\\site-packages\\matplotlib\\pyplot.py\u001b[0m in \u001b[0;36mhist\u001b[1;34m(x, bins, range, density, weights, cumulative, bottom, histtype, align, orientation, rwidth, log, color, label, stacked, normed, hold, data, **kwargs)\u001b[0m\n\u001b[0;32m   3002\u001b[0m                       \u001b[0mhisttype\u001b[0m\u001b[1;33m=\u001b[0m\u001b[0mhisttype\u001b[0m\u001b[1;33m,\u001b[0m \u001b[0malign\u001b[0m\u001b[1;33m=\u001b[0m\u001b[0malign\u001b[0m\u001b[1;33m,\u001b[0m \u001b[0morientation\u001b[0m\u001b[1;33m=\u001b[0m\u001b[0morientation\u001b[0m\u001b[1;33m,\u001b[0m\u001b[1;33m\u001b[0m\u001b[0m\n\u001b[0;32m   3003\u001b[0m                       \u001b[0mrwidth\u001b[0m\u001b[1;33m=\u001b[0m\u001b[0mrwidth\u001b[0m\u001b[1;33m,\u001b[0m \u001b[0mlog\u001b[0m\u001b[1;33m=\u001b[0m\u001b[0mlog\u001b[0m\u001b[1;33m,\u001b[0m \u001b[0mcolor\u001b[0m\u001b[1;33m=\u001b[0m\u001b[0mcolor\u001b[0m\u001b[1;33m,\u001b[0m \u001b[0mlabel\u001b[0m\u001b[1;33m=\u001b[0m\u001b[0mlabel\u001b[0m\u001b[1;33m,\u001b[0m\u001b[1;33m\u001b[0m\u001b[0m\n\u001b[1;32m-> 3004\u001b[1;33m                       stacked=stacked, normed=normed, data=data, **kwargs)\n\u001b[0m\u001b[0;32m   3005\u001b[0m     \u001b[1;32mfinally\u001b[0m\u001b[1;33m:\u001b[0m\u001b[1;33m\u001b[0m\u001b[0m\n\u001b[0;32m   3006\u001b[0m         \u001b[0max\u001b[0m\u001b[1;33m.\u001b[0m\u001b[0m_hold\u001b[0m \u001b[1;33m=\u001b[0m \u001b[0mwashold\u001b[0m\u001b[1;33m\u001b[0m\u001b[0m\n",
      "\u001b[1;32m~\\Anaconda3\\lib\\site-packages\\matplotlib\\__init__.py\u001b[0m in \u001b[0;36minner\u001b[1;34m(ax, *args, **kwargs)\u001b[0m\n\u001b[0;32m   1708\u001b[0m                     warnings.warn(msg % (label_namer, func.__name__),\n\u001b[0;32m   1709\u001b[0m                                   RuntimeWarning, stacklevel=2)\n\u001b[1;32m-> 1710\u001b[1;33m             \u001b[1;32mreturn\u001b[0m \u001b[0mfunc\u001b[0m\u001b[1;33m(\u001b[0m\u001b[0max\u001b[0m\u001b[1;33m,\u001b[0m \u001b[1;33m*\u001b[0m\u001b[0margs\u001b[0m\u001b[1;33m,\u001b[0m \u001b[1;33m**\u001b[0m\u001b[0mkwargs\u001b[0m\u001b[1;33m)\u001b[0m\u001b[1;33m\u001b[0m\u001b[0m\n\u001b[0m\u001b[0;32m   1711\u001b[0m         \u001b[0mpre_doc\u001b[0m \u001b[1;33m=\u001b[0m \u001b[0minner\u001b[0m\u001b[1;33m.\u001b[0m\u001b[0m__doc__\u001b[0m\u001b[1;33m\u001b[0m\u001b[0m\n\u001b[0;32m   1712\u001b[0m         \u001b[1;32mif\u001b[0m \u001b[0mpre_doc\u001b[0m \u001b[1;32mis\u001b[0m \u001b[1;32mNone\u001b[0m\u001b[1;33m:\u001b[0m\u001b[1;33m\u001b[0m\u001b[0m\n",
      "\u001b[1;32m~\\Anaconda3\\lib\\site-packages\\matplotlib\\axes\\_axes.py\u001b[0m in \u001b[0;36mhist\u001b[1;34m(***failed resolving arguments***)\u001b[0m\n\u001b[0;32m   6205\u001b[0m             \u001b[1;31m# this will automatically overwrite bins,\u001b[0m\u001b[1;33m\u001b[0m\u001b[1;33m\u001b[0m\u001b[0m\n\u001b[0;32m   6206\u001b[0m             \u001b[1;31m# so that each histogram uses the same bins\u001b[0m\u001b[1;33m\u001b[0m\u001b[1;33m\u001b[0m\u001b[0m\n\u001b[1;32m-> 6207\u001b[1;33m             \u001b[0mm\u001b[0m\u001b[1;33m,\u001b[0m \u001b[0mbins\u001b[0m \u001b[1;33m=\u001b[0m \u001b[0mnp\u001b[0m\u001b[1;33m.\u001b[0m\u001b[0mhistogram\u001b[0m\u001b[1;33m(\u001b[0m\u001b[0mx\u001b[0m\u001b[1;33m[\u001b[0m\u001b[0mi\u001b[0m\u001b[1;33m]\u001b[0m\u001b[1;33m,\u001b[0m \u001b[0mbins\u001b[0m\u001b[1;33m,\u001b[0m \u001b[0mweights\u001b[0m\u001b[1;33m=\u001b[0m\u001b[0mw\u001b[0m\u001b[1;33m[\u001b[0m\u001b[0mi\u001b[0m\u001b[1;33m]\u001b[0m\u001b[1;33m,\u001b[0m \u001b[1;33m**\u001b[0m\u001b[0mhist_kwargs\u001b[0m\u001b[1;33m)\u001b[0m\u001b[1;33m\u001b[0m\u001b[0m\n\u001b[0m\u001b[0;32m   6208\u001b[0m             \u001b[0mm\u001b[0m \u001b[1;33m=\u001b[0m \u001b[0mm\u001b[0m\u001b[1;33m.\u001b[0m\u001b[0mastype\u001b[0m\u001b[1;33m(\u001b[0m\u001b[0mfloat\u001b[0m\u001b[1;33m)\u001b[0m  \u001b[1;31m# causes problems later if it's an int\u001b[0m\u001b[1;33m\u001b[0m\u001b[0m\n\u001b[0;32m   6209\u001b[0m             \u001b[1;32mif\u001b[0m \u001b[0mmlast\u001b[0m \u001b[1;32mis\u001b[0m \u001b[1;32mNone\u001b[0m\u001b[1;33m:\u001b[0m\u001b[1;33m\u001b[0m\u001b[0m\n",
      "\u001b[1;32m~\\Anaconda3\\lib\\site-packages\\numpy\\lib\\function_base.py\u001b[0m in \u001b[0;36mhistogram\u001b[1;34m(a, bins, range, normed, weights, density)\u001b[0m\n\u001b[0;32m    786\u001b[0m         \u001b[1;32mif\u001b[0m \u001b[0mnp\u001b[0m\u001b[1;33m.\u001b[0m\u001b[0many\u001b[0m\u001b[1;33m(\u001b[0m\u001b[0mbins\u001b[0m\u001b[1;33m[\u001b[0m\u001b[1;33m:\u001b[0m\u001b[1;33m-\u001b[0m\u001b[1;36m1\u001b[0m\u001b[1;33m]\u001b[0m \u001b[1;33m>\u001b[0m \u001b[0mbins\u001b[0m\u001b[1;33m[\u001b[0m\u001b[1;36m1\u001b[0m\u001b[1;33m:\u001b[0m\u001b[1;33m]\u001b[0m\u001b[1;33m)\u001b[0m\u001b[1;33m:\u001b[0m\u001b[1;33m\u001b[0m\u001b[0m\n\u001b[0;32m    787\u001b[0m             raise ValueError(\n\u001b[1;32m--> 788\u001b[1;33m                 'bins must increase monotonically.')\n\u001b[0m\u001b[0;32m    789\u001b[0m \u001b[1;33m\u001b[0m\u001b[0m\n\u001b[0;32m    790\u001b[0m         \u001b[1;31m# Initialize empty histogram\u001b[0m\u001b[1;33m\u001b[0m\u001b[1;33m\u001b[0m\u001b[0m\n",
      "\u001b[1;31mValueError\u001b[0m: bins must increase monotonically."
     ]
    }
   ],
   "source": [
    "impacts = []\n",
    "\n",
    "for i in range(0,30000):\n",
    "    impacts.append(financialImpact(data_na[i,6:25]))\n",
    "    \n",
    "plt.hist(impacts, bins = 100*list(range(-10,5)))\n",
    "plt.show()"
   ]
  },
  {
   "cell_type": "code",
   "execution_count": 21,
   "metadata": {},
   "outputs": [
    {
     "data": {
      "text/plain": [
       "array([-1000,  -900,  -800,  -700,  -600,  -500,  -400,  -300,  -200,\n",
       "        -100,     0,   100,   200,   300,   400,   500])"
      ]
     },
     "execution_count": 21,
     "metadata": {},
     "output_type": "execute_result"
    }
   ],
   "source": [
    "np.array(list(range(-10,6)))*100"
   ]
  }
 ],
 "metadata": {
  "kernelspec": {
   "display_name": "Python 3",
   "language": "python",
   "name": "python3"
  },
  "language_info": {
   "codemirror_mode": {
    "name": "ipython",
    "version": 3
   },
   "file_extension": ".py",
   "mimetype": "text/x-python",
   "name": "python",
   "nbconvert_exporter": "python",
   "pygments_lexer": "ipython3",
   "version": "3.6.3"
  }
 },
 "nbformat": 4,
 "nbformat_minor": 2
}
