{
 "cells": [
  {
   "cell_type": "code",
   "execution_count": 95,
   "metadata": {
    "collapsed": true
   },
   "outputs": [],
   "source": [
    "import numpy as np\n",
    "import pandas as pd\n",
    "import matplotlib.pyplot as plt\n",
    "from sklearn.tree import DecisionTreeClassifier\n",
    "from sklearn.model_selection import train_test_split\n",
    "from sklearn.metrics import confusion_matrix"
   ]
  },
  {
   "cell_type": "code",
   "execution_count": 2,
   "metadata": {},
   "outputs": [
    {
     "data": {
      "text/html": [
       "<div>\n",
       "<style>\n",
       "    .dataframe thead tr:only-child th {\n",
       "        text-align: right;\n",
       "    }\n",
       "\n",
       "    .dataframe thead th {\n",
       "        text-align: left;\n",
       "    }\n",
       "\n",
       "    .dataframe tbody tr th {\n",
       "        vertical-align: top;\n",
       "    }\n",
       "</style>\n",
       "<table border=\"1\" class=\"dataframe\">\n",
       "  <thead>\n",
       "    <tr style=\"text-align: right;\">\n",
       "      <th></th>\n",
       "      <th>ID</th>\n",
       "      <th>Balance_limit</th>\n",
       "      <th>Sex</th>\n",
       "      <th>Education</th>\n",
       "      <th>Married</th>\n",
       "      <th>Age</th>\n",
       "      <th>Sep_2017_payment_status</th>\n",
       "      <th>Aug_2017_payment_status</th>\n",
       "      <th>Jul_2017_payment_status</th>\n",
       "      <th>Jun_2017_payment_status</th>\n",
       "      <th>...</th>\n",
       "      <th>Apr_2017_bill_amount</th>\n",
       "      <th>Sep_2017_payment_amount</th>\n",
       "      <th>Aug_2017_payment_amount</th>\n",
       "      <th>July_2017_payment_amount</th>\n",
       "      <th>Jun_2017_payment_amount</th>\n",
       "      <th>May_2017_payment_amount</th>\n",
       "      <th>Apr_2017_payment_amount</th>\n",
       "      <th>Default</th>\n",
       "      <th>Location</th>\n",
       "      <th>Employer</th>\n",
       "    </tr>\n",
       "  </thead>\n",
       "  <tbody>\n",
       "    <tr>\n",
       "      <th>0</th>\n",
       "      <td>1</td>\n",
       "      <td>600</td>\n",
       "      <td>2</td>\n",
       "      <td>2</td>\n",
       "      <td>1</td>\n",
       "      <td>24</td>\n",
       "      <td>2</td>\n",
       "      <td>2</td>\n",
       "      <td>-1</td>\n",
       "      <td>-1</td>\n",
       "      <td>...</td>\n",
       "      <td>0.00</td>\n",
       "      <td>0.00</td>\n",
       "      <td>22.23</td>\n",
       "      <td>0.00</td>\n",
       "      <td>0.00</td>\n",
       "      <td>0.00</td>\n",
       "      <td>0.00</td>\n",
       "      <td>1</td>\n",
       "      <td>\"40.81610946060648, -84.9254489054052\"</td>\n",
       "      <td>First Bancorp of Indiana Inc</td>\n",
       "    </tr>\n",
       "    <tr>\n",
       "      <th>1</th>\n",
       "      <td>2</td>\n",
       "      <td>3900</td>\n",
       "      <td>2</td>\n",
       "      <td>2</td>\n",
       "      <td>2</td>\n",
       "      <td>26</td>\n",
       "      <td>-1</td>\n",
       "      <td>2</td>\n",
       "      <td>0</td>\n",
       "      <td>0</td>\n",
       "      <td>...</td>\n",
       "      <td>105.19</td>\n",
       "      <td>0.00</td>\n",
       "      <td>32.26</td>\n",
       "      <td>32.26</td>\n",
       "      <td>32.26</td>\n",
       "      <td>0.00</td>\n",
       "      <td>64.52</td>\n",
       "      <td>1</td>\n",
       "      <td>\"41.60122426668496, -86.7179404570147\"</td>\n",
       "      <td>Calumet College of Saint Joseph Inc</td>\n",
       "    </tr>\n",
       "    <tr>\n",
       "      <th>2</th>\n",
       "      <td>3</td>\n",
       "      <td>2900</td>\n",
       "      <td>2</td>\n",
       "      <td>2</td>\n",
       "      <td>2</td>\n",
       "      <td>34</td>\n",
       "      <td>0</td>\n",
       "      <td>0</td>\n",
       "      <td>0</td>\n",
       "      <td>0</td>\n",
       "      <td>...</td>\n",
       "      <td>501.58</td>\n",
       "      <td>48.97</td>\n",
       "      <td>48.39</td>\n",
       "      <td>32.26</td>\n",
       "      <td>32.26</td>\n",
       "      <td>32.26</td>\n",
       "      <td>161.29</td>\n",
       "      <td>0</td>\n",
       "      <td>\"41.44201008911672, -87.16354453239211\"</td>\n",
       "      <td>Calumet Specialty Products Partners LP</td>\n",
       "    </tr>\n",
       "    <tr>\n",
       "      <th>3</th>\n",
       "      <td>4</td>\n",
       "      <td>1600</td>\n",
       "      <td>2</td>\n",
       "      <td>2</td>\n",
       "      <td>1</td>\n",
       "      <td>37</td>\n",
       "      <td>0</td>\n",
       "      <td>0</td>\n",
       "      <td>0</td>\n",
       "      <td>0</td>\n",
       "      <td>...</td>\n",
       "      <td>953.13</td>\n",
       "      <td>64.52</td>\n",
       "      <td>65.13</td>\n",
       "      <td>38.71</td>\n",
       "      <td>35.48</td>\n",
       "      <td>34.48</td>\n",
       "      <td>32.26</td>\n",
       "      <td>0</td>\n",
       "      <td>\"41.657025875592204, -86.214483371831\"</td>\n",
       "      <td>OneMain Holdings Inc.</td>\n",
       "    </tr>\n",
       "    <tr>\n",
       "      <th>4</th>\n",
       "      <td>5</td>\n",
       "      <td>1600</td>\n",
       "      <td>1</td>\n",
       "      <td>2</td>\n",
       "      <td>1</td>\n",
       "      <td>57</td>\n",
       "      <td>-1</td>\n",
       "      <td>0</td>\n",
       "      <td>-1</td>\n",
       "      <td>0</td>\n",
       "      <td>...</td>\n",
       "      <td>617.13</td>\n",
       "      <td>64.52</td>\n",
       "      <td>1183.26</td>\n",
       "      <td>322.58</td>\n",
       "      <td>290.32</td>\n",
       "      <td>22.23</td>\n",
       "      <td>21.90</td>\n",
       "      <td>0</td>\n",
       "      <td>\"41.08799917352892, -85.02232399574875\"</td>\n",
       "      <td>Board of Trustees of Indiana University</td>\n",
       "    </tr>\n",
       "  </tbody>\n",
       "</table>\n",
       "<p>5 rows × 27 columns</p>\n",
       "</div>"
      ],
      "text/plain": [
       "   ID  Balance_limit  Sex  Education  Married  Age  Sep_2017_payment_status  \\\n",
       "0   1            600    2          2        1   24                        2   \n",
       "1   2           3900    2          2        2   26                       -1   \n",
       "2   3           2900    2          2        2   34                        0   \n",
       "3   4           1600    2          2        1   37                        0   \n",
       "4   5           1600    1          2        1   57                       -1   \n",
       "\n",
       "   Aug_2017_payment_status  Jul_2017_payment_status  Jun_2017_payment_status  \\\n",
       "0                        2                       -1                       -1   \n",
       "1                        2                        0                        0   \n",
       "2                        0                        0                        0   \n",
       "3                        0                        0                        0   \n",
       "4                        0                       -1                        0   \n",
       "\n",
       "                    ...                     Apr_2017_bill_amount  \\\n",
       "0                   ...                                     0.00   \n",
       "1                   ...                                   105.19   \n",
       "2                   ...                                   501.58   \n",
       "3                   ...                                   953.13   \n",
       "4                   ...                                   617.13   \n",
       "\n",
       "   Sep_2017_payment_amount  Aug_2017_payment_amount  July_2017_payment_amount  \\\n",
       "0                     0.00                    22.23                      0.00   \n",
       "1                     0.00                    32.26                     32.26   \n",
       "2                    48.97                    48.39                     32.26   \n",
       "3                    64.52                    65.13                     38.71   \n",
       "4                    64.52                  1183.26                    322.58   \n",
       "\n",
       "   Jun_2017_payment_amount  May_2017_payment_amount  Apr_2017_payment_amount  \\\n",
       "0                     0.00                     0.00                     0.00   \n",
       "1                    32.26                     0.00                    64.52   \n",
       "2                    32.26                    32.26                   161.29   \n",
       "3                    35.48                    34.48                    32.26   \n",
       "4                   290.32                    22.23                    21.90   \n",
       "\n",
       "   Default                                 Location  \\\n",
       "0        1   \"40.81610946060648, -84.9254489054052\"   \n",
       "1        1   \"41.60122426668496, -86.7179404570147\"   \n",
       "2        0  \"41.44201008911672, -87.16354453239211\"   \n",
       "3        0   \"41.657025875592204, -86.214483371831\"   \n",
       "4        0  \"41.08799917352892, -85.02232399574875\"   \n",
       "\n",
       "                                  Employer  \n",
       "0             First Bancorp of Indiana Inc  \n",
       "1      Calumet College of Saint Joseph Inc  \n",
       "2  Calumet Specialty Products Partners LP   \n",
       "3                   OneMain Holdings Inc.   \n",
       "4  Board of Trustees of Indiana University  \n",
       "\n",
       "[5 rows x 27 columns]"
      ]
     },
     "execution_count": 2,
     "metadata": {},
     "output_type": "execute_result"
    }
   ],
   "source": [
    "data = pd.read_csv(\"dataset_raw.csv\")\n",
    "data_na = np.array(data)\n",
    "data.head()"
   ]
  },
  {
   "cell_type": "markdown",
   "metadata": {},
   "source": [
    "## NIBT\n",
    "= Non-interest income + Net interest income - Costs\n",
    "\n",
    "### Non interest income \n",
    "- Annual fees = number of credit cards x annual fee\n",
    "- Cash advance fees = Annual cash advance volume x average fee \n",
    "- Penalty fees = Penalty occurance x Penalty fee\n",
    "- Fees = Annual fees + Cash Advance Fees + Penalty Fees\n",
    "- Interchange = Interchange rate x Purchase volume\n",
    "- Non-interest income = Fees + Interchange\n",
    "\n",
    "\n",
    "### Net interest income \n",
    "- Outstanding balances = Purchase volume x Balances as percentage of PV \n",
    "- Net interest income = Outstanding balance x Spread margin\n",
    "\n",
    "### Costs\n",
    "- Loss rate = Default rate x Collection %\n",
    "- Losses = Loss rate x Outstanding balance\n",
    "- Operating expenses = Outstanding balances x Opex rate\n",
    "- Reward expenses = Purchase volume x Rewards rate\n",
    "- Costs = Reward expenses + Operating expenses + Losses\n",
    "\n",
    "\n",
    "### What we know\n",
    "- Households = 2,2M\n",
    "- Of which 85% have credit card accounts\n",
    "- 60% of credit card accounts are active\n",
    "- Average number of cards per account = 1.3\n",
    "- Average annual purchase volume = 5000 \n",
    "- Opex rate = 5%\n",
    "- Avg. interchange rate = 2%\n",
    "- 30% of purchase volume outstanding\n",
    "- Spread margin 1.25%\n",
    "- Cash advance fee = 5%\n",
    "- Late payment fee = 20\n",
    "- Annual credit card fee = 75\n",
    "- 300 average cash advance volume\n",
    "\n",
    "### What we can find out using the data\n",
    "- Penalty occurance\n",
    "- Default rate\n",
    "\n",
    "### Assumptions \n",
    "- Annual active credit cards is calculted as 2200000 x 0.85 x 1.3 x 0.60. This is a pretty big assumption since it is probable the people who like to use credit cards have more credit cards than those who don't use them. My conjecture is that average credit cards per active account < average credit cards per account. This is also a pretty important number that affect most of the calculations so maybe more consideration could be put into this\n",
    "- Annual purchase and cash advance volumes are considering only active credit card accounts\n",
    "- Collection rate is totally pulled out of the wind since I don't know if there is a way to argue a number based on data or the source material. Maybe we could cite a source or something. Collections also have costs.\n",
    "- Spread margin is the interest paid on outstanding balance. It's value is yearly interest divided by 12 and it is compunded monthly. I didn't find anything sensible about spread mergins with a quick googling, but in my opinion this is one interpretation that makes sense considering how net interest income is calculated \n",
    "- In the dataset the amount of unused cards is around 5% but the source material states the value to be 40%. For the calculations regarding the dataset we use active credit cards since, based on the data, it is highly likely that the dataset contains only active credit cards. \n",
    "- You can only have one late payment fee per month. This is probably not the case but in this simple model it is assumed you get only one late payment fee for not paying you bills each month. However late payment fees are a pretty small cash flow so the impact of this assumption is not as huge as for example collection percentage's.\n",
    "- When a credit card defaults the money lost is the September bill amount times the collection rate.\n",
    "- In addition to the previous point. Negative bill amounts are interpreted as the bank owing money to the customer or there being positive balance on his account. Anyway, when this kind of customer defaults, it is assumed that there are no financial implications to the bank."
   ]
  },
  {
   "cell_type": "code",
   "execution_count": 282,
   "metadata": {
    "collapsed": true
   },
   "outputs": [],
   "source": [
    "#Known variables\n",
    "households = 2200000\n",
    "ccAccountsPerHousehold = 0.85\n",
    "fractionOfActiveCCAccounts = 0.6\n",
    "avgCCsPerAccount = 1.3\n",
    "avgAnnualPV = 5000\n",
    "opexRate = 0.05\n",
    "avgInterchangeRate = 0.02\n",
    "shareOfPVOutstanding = 0.3\n",
    "spreadMargin = 0.0125\n",
    "cashAdvanceFee = 0.05\n",
    "rewardRate = 0.05\n",
    "latePaymentFee = 20\n",
    "annualCCFee = 75\n",
    "avgCashAdvanceVol = 300\n",
    "#the amount of money recovered in default\n",
    "collectionEfficiency = 0.1\n",
    "defaultBiasModifier = 3"
   ]
  },
  {
   "cell_type": "code",
   "execution_count": 70,
   "metadata": {
    "collapsed": true
   },
   "outputs": [],
   "source": [
    "#Variables that are derivable with straight calculation\n",
    "totalAccounts = households * ccAccountsPerHousehold\n",
    "activeAccounts = totalAccounts * fractionOfActiveCCAccounts\n",
    "totalCards = totalAccounts * avgCCsPerAccount "
   ]
  },
  {
   "cell_type": "code",
   "execution_count": 71,
   "metadata": {},
   "outputs": [
    {
     "data": {
      "text/plain": [
       "1683000.0"
      ]
     },
     "execution_count": 71,
     "metadata": {},
     "output_type": "execute_result"
    }
   ],
   "source": [
    "#this is a pretty big assumption since it is probable the people who like to use credit cards \n",
    "#don't have as many credit cards as those who don't use them. \n",
    "#My conjecture is average credit cards per active account < average credit cards per account.\n",
    "#This is also a pretty important number so maybe more consideration coul be put into this\n",
    "\n",
    "activeCards = activeAccounts * avgCCsPerAccount\n",
    "\n",
    "#If we assume inactive accounts have usually just one card we get the amount of active cards to be\n",
    "\n",
    "#-----UNCOMMENT IF YOU WANT TO USE THIS ASSUMPTION FOR ACTIVE CARDS-----#\n",
    "\n",
    "activeCards = totalCards - (1 - fractionOfActiveCCAccounts) * totalAccounts \n",
    "\n",
    "#-----------------------------------------------------------------------#\n",
    "\n",
    "activeCards\n",
    "\n",
    "#This changes the amount of active cards by more than 2000000 which is nearly 15% \n",
    "#of the total amount of active cards but of course this is just speculation."
   ]
  },
  {
   "cell_type": "code",
   "execution_count": 72,
   "metadata": {},
   "outputs": [
    {
     "data": {
      "text/plain": [
       "8415000000.0"
      ]
     },
     "execution_count": 72,
     "metadata": {},
     "output_type": "execute_result"
    }
   ],
   "source": [
    "totalPV = avgAnnualPV * activeCards\n",
    "outstandingPV = totalPV * shareOfPVOutstanding\n",
    "\n",
    "totalPV"
   ]
  },
  {
   "cell_type": "code",
   "execution_count": 73,
   "metadata": {},
   "outputs": [
    {
     "data": {
      "text/plain": [
       "2462453.4"
      ]
     },
     "execution_count": 73,
     "metadata": {},
     "output_type": "execute_result"
    }
   ],
   "source": [
    "# Calculating amount of late payments from the dataset and scaling that for the whole year and total credit cards\n",
    "# This is done by taking the amount of positive numbers in the payment status columns and multiplyin by 20\n",
    "# It is assumed you get only one late payment fee each month of missing paying the bill.\n",
    "\n",
    "latePaymentsRatio = 0\n",
    "\n",
    "for j in range(6,11):\n",
    "    for i in range(0,30000):\n",
    "        if(data_na[i,j] > 0):\n",
    "            latePaymentsRatio = latePaymentsRatio + 1\n",
    "        \n",
    "latePayments = latePaymentsRatio / (6 * 30000) * 12 * activeCards\n",
    "latePayments\n"
   ]
  },
  {
   "cell_type": "code",
   "execution_count": 74,
   "metadata": {},
   "outputs": [
    {
     "data": {
      "text/plain": [
       "582632201.5139996"
      ]
     },
     "execution_count": 74,
     "metadata": {},
     "output_type": "execute_result"
    }
   ],
   "source": [
    "#Calculating default rate and scaling it for the whole customer base'\n",
    "#Only the positive September bill amounts are considered and \n",
    "#the sum is multiplied by the average collection efficiency\n",
    "\n",
    "posDefaulters = np.where((data_na[:,12] * data_na[:,24]) > 0)\n",
    "losses = sum(data_na[posDefaulters][:,12]) / 30000 * activeCards * (1 - collectionEfficiency) * 2\n",
    "losses"
   ]
  },
  {
   "cell_type": "code",
   "execution_count": 75,
   "metadata": {},
   "outputs": [
    {
     "data": {
      "text/plain": [
       "313722697.7230593"
      ]
     },
     "execution_count": 75,
     "metadata": {},
     "output_type": "execute_result"
    }
   ],
   "source": [
    "#Calculating amount of outstanding balance each month, \n",
    "#applying interest rate and scaling for the whole year and customer space and total credit cards\n",
    "#In the dataset we can see the oustanding balances for each month and calculate\n",
    "#compounding interest this way for each month.\n",
    "\n",
    "netInterest = 0\n",
    "\n",
    "for j in range(12,17):\n",
    "    for i in range(0,30000):\n",
    "        if(data_na[i,j] > 0):\n",
    "            netInterest = netInterest + data_na[i,j] * spreadMargin\n",
    "            \n",
    "netInterest = netInterest / (6 * 30000) * 12 * activeCards\n",
    "netInterest"
   ]
  },
  {
   "cell_type": "code",
   "execution_count": 76,
   "metadata": {},
   "outputs": [
    {
     "data": {
      "text/plain": [
       "378675000.00000006"
      ]
     },
     "execution_count": 76,
     "metadata": {},
     "output_type": "execute_result"
    }
   ],
   "source": [
    "#Other way to calcultate the net interest is with the given values \n",
    "#It would be highly ulikely that the interest margin bank gets is 1.25%.\n",
    "#I assume that this is the interest rate that is compounded monthly \n",
    "#It is assumed that each month the oustanding balance is pretty much equal\n",
    "#and that the previous months interest is paid away instantly in most cases. \n",
    "#This means that the interest bank gets is  \n",
    "\n",
    "netInterest_given = 12 * spreadMargin * outstandingPV\n",
    "netInterest_given\n",
    "\n",
    "# The value is almost exactly the same as the one given by the one calculted from the data\n",
    "# It seems that it doesn't matter that much which way you calculate the interest"
   ]
  },
  {
   "cell_type": "code",
   "execution_count": 77,
   "metadata": {
    "collapsed": true
   },
   "outputs": [],
   "source": [
    "#Fees\n",
    "annualFees = totalCards * annualCCFee\n",
    "cashAdvanceFees = activeAccounts * avgCashAdvanceVol * cashAdvanceFee\n",
    "penaltyFees = latePayments * latePaymentFee\n",
    "fees = annualFees + cashAdvanceFees + penaltyFees\n",
    "interchange = totalPV * avgInterchangeRate\n",
    "nonInterestIncome = interchange + fees \n",
    "\n",
    "\n",
    "#Costs\n",
    "losses = losses\n",
    "lossesNonBiased = losses / defaultBiasModifier\n",
    "operatingExpenses = outstandingPV * opexRate\n",
    "rewardExpenses = totalPV * rewardRate\n",
    "costs = losses + operatingExpenses + rewardExpenses\n",
    "costsNonBiased = operatingExpenses + rewardExpenses + lossesNonBiased"
   ]
  },
  {
   "cell_type": "code",
   "execution_count": 78,
   "metadata": {},
   "outputs": [
    {
     "name": "stdout",
     "output_type": "stream",
     "text": [
      "Cards:\n",
      "     Total credit card accounts: 1870000.0\n",
      "     Active accounts: 1122000.0\n",
      "     Active credit cards: 1683000.0\n",
      "\n",
      "Net interest income: \n",
      "     Purchase volume: 8415000000.0\n",
      "     Outstanding purchase volume: 2524500000.0\n",
      "     Net interest income (data): 313722697.7230593\n",
      "     Net interest income (given values): 378675000.00000006\n",
      "\n",
      "Non-interest income:\n",
      "     Interchange: 168300000.0\n",
      "     Annual fees: 182325000.0\n",
      "     Cash advance fees: 16830000.0\n",
      "     Late payment penalty fees: 49249068.0\n",
      "     Total fees: 248404068.0\n",
      "\n",
      "Costs: \n",
      "     Losses: 582632201.5139996\n",
      "     Losses(Bias modified): 58263220.151399955\n",
      "     Operating expenses: 126225000.0\n",
      "     Reward expenses: 420750000.0\n",
      "     Total costs: 1129607201.5139995\n",
      "     Total costs(Bias modified: )605238220.1514\n",
      "\n",
      "NIBT: -334228133.51399946\n",
      "NIBT(Bias modified): 190140847.84860003\n"
     ]
    }
   ],
   "source": [
    "#Prints out the values of different key numbers\n",
    "print(\"Cards:\")\n",
    "print(\"     Total credit card accounts: \" + str(totalAccounts))\n",
    "print(\"     Active accounts: \" + str(activeAccounts))\n",
    "print(\"     Active credit cards: \" + str(activeCards))\n",
    "print(\"\")\n",
    "print(\"Net interest income: \")\n",
    "print(\"     Purchase volume: \" + str(totalPV))\n",
    "print(\"     Outstanding purchase volume: \" + str(outstandingPV))\n",
    "print(\"     Net interest income (data): \" + str(netInterest))\n",
    "print(\"     Net interest income (given values): \" + str(netInterest_given))\n",
    "print(\"\")\n",
    "print(\"Non-interest income:\")\n",
    "print(\"     Interchange: \" + str(interchange))\n",
    "print(\"     Annual fees: \" + str(annualFees))\n",
    "print(\"     Cash advance fees: \" + str(cashAdvanceFees))\n",
    "print(\"     Late payment penalty fees: \" + str(penaltyFees))\n",
    "print(\"     Total fees: \" + str(annualFees + cashAdvanceFees + penaltyFees))\n",
    "print(\"\")\n",
    "print(\"Costs: \")\n",
    "print(\"     Losses: \" + str(losses))\n",
    "print(\"     Losses(Bias modified): \" + str(losses / defaultBiasModifier))\n",
    "print(\"     Operating expenses: \" + str(operatingExpenses))\n",
    "print(\"     Reward expenses: \" + str(rewardExpenses))\n",
    "print(\"     Total costs: \" + str(costs))\n",
    "print(\"     Total costs(Bias modified: )\" + str(costsNonBiased))\n",
    "print(\"\")\n",
    "print(\"NIBT: \" + str(nonInterestIncome + netInterest_given - costs))\n",
    "print(\"NIBT(Bias modified): \" + str(nonInterestIncome + netInterest_given - costsNonBiased))\n"
   ]
  },
  {
   "cell_type": "raw",
   "metadata": {},
   "source": [
    "## Problems of the model\n",
    "\n"
   ]
  },
  {
   "cell_type": "markdown",
   "metadata": {},
   "source": [
    "## Questions and discussion\n",
    "\n",
    "- What is the selection criteria of the dataset? Did some customers default during the 6 month period or did all defaulters default after the period? This could create a pretty big bias. Average delinquency rate in credit cards in united states is 2%-7%.\n",
    "- This model is extremely sensitive to fluctutions in the collections success and the profitability of the business seems to be entirely based on how much money can be recovered in the case customer defaults.\n",
    "- The benefit we can receive from our default predicting model could be that if we recognize a group of people who has a higher risk of defaulting we can filter them out from our data and see how that affects the bottom line of the bank. \n",
    "- Also the developement of the outstanding balance for a defaulting cutomer could be investigated, but I'm not sure how.\n"
   ]
  },
  {
   "cell_type": "markdown",
   "metadata": {},
   "source": [
    "# Financial impact of a customer"
   ]
  },
  {
   "cell_type": "code",
   "execution_count": 303,
   "metadata": {
    "collapsed": true
   },
   "outputs": [],
   "source": [
    "#Calculates the financial impact to the bank from payment history row of credit card dataset \n",
    "#namely the columns from the 7th column to 26th column or indexes [6:25]\n",
    "def financialImpact(paymentHistory, collectEff, bias):\n",
    "    \n",
    "    yearlyFee = 75\n",
    "    \n",
    "    #number months when the cutomer is late in their payment times late payment fee\n",
    "    latePayments = len(np.where(paymentHistory[0:5] > 0)[0])* 20    \n",
    "    \n",
    "    #monthly compounging of spread margin on outstanding balance\n",
    "    interest = 0\n",
    "    for i in range(6, 12):\n",
    "        if(paymentHistory[i] > 0):\n",
    "            interest += paymentHistory[i] * spreadMargin\n",
    "    \n",
    "    #calculating money lost on default\n",
    "    default = 0\n",
    "    if(paymentHistory[6] > 0):\n",
    "        default = paymentHistory[6] * paymentHistory[18] * (1 - collectEff)\n",
    "    \n",
    "    #taking the outstanding balance on the last month and adding everything that has been paid off\n",
    "    #to get the total purchase volume of the credit card\n",
    "    purchaseVolume = paymentHistory[6]\n",
    "    for i in range(12, 18):\n",
    "        if(paymentHistory[i] > 0):\n",
    "            purchaseVolume += paymentHistory[i]\n",
    "    \n",
    "    #calculating the purchase volume derivative figures\n",
    "    interchange = purchaseVolume * avgInterchangeRate    \n",
    "    rewards = purchaseVolume * rewardRate\n",
    "    \n",
    "    #calculating the total outstanding balance from all months\n",
    "    outstanding = 0\n",
    "    for i in range(6, 12):\n",
    "        if(paymentHistory[i] > 0):\n",
    "            outstanding += paymentHistory[i]\n",
    "    \n",
    "    #operating expense of the outstanding balance\n",
    "    #assumes that customer has on average certain amount of outstanding balance and the opex rate is componded yearly\n",
    "    opex = outstanding / 6 * 0.05\n",
    "    \n",
    "    #estimated purely from the given key values and assumes that everybody is an average customer\n",
    "    cashAdvance = cashAdvanceFee * 300\n",
    "    \n",
    "    #adding up the cashflows\n",
    "    impact = yearlyFee + latePayments + interest + interchange + cashAdvance - default - opex - rewards\n",
    "    \n",
    "    #the financial impact that tries to take into the account the positive bias in the amount of defaulters in the dataset \n",
    "    impactNonBiased = yearlyFee + latePayments + interest + interchange + cashAdvance - default / bias - opex - rewards\n",
    "    \n",
    "    #---UNCOMMENT THIS FOR THE PURE IMPACT OF THE DATASET---#\n",
    "    \n",
    "    #return impact\n",
    "    \n",
    "    #-------------------------------------------------------#\n",
    "    \n",
    "    #return the non biased impact of the customer\n",
    "    return impactNonBiased "
   ]
  },
  {
   "cell_type": "code",
   "execution_count": 80,
   "metadata": {
    "collapsed": true
   },
   "outputs": [],
   "source": [
    "%matplotlib inline"
   ]
  },
  {
   "cell_type": "code",
   "execution_count": 361,
   "metadata": {},
   "outputs": [],
   "source": [
    "#This is just a function for printing out some key values of a dataset\n",
    "\n",
    "def keyValues(dataset, collectEff, bias):\n",
    "    impacts = []\n",
    "\n",
    "    for i in range(0,len(dataset)):\n",
    "        impacts.append(financialImpact(dataset[i,6:25], collectEff, bias))\n",
    "    \n",
    "    #When active cards are filtered out it is also generalizesd for the entire population\n",
    "    scaledActiveCards = activeCards * len(dataset) / (30000 / bias) \n",
    "    \n",
    "    impacts = np.array(impacts)\n",
    "    plt.hist(impacts, bins = np.array(list(range(-16,16))) * 25)\n",
    "    plt.xlabel(\"Financial impact (Dollars)\")\n",
    "    plt.ylabel(\"Frequency\")\n",
    "\n",
    "    print(\"Total profit from data set: \" + str(sum(impacts)))\n",
    "    print(\"Average profit per customer: \" + str(np.mean(impacts)))\n",
    "    print(\"Median profit: \" + str(np.median(impacts)))\n",
    "    print(\"Number of gains: \" + str(len(np.where(impacts > 0)[0])))\n",
    "    print(\"Number of losses: \"+ str(len(np.where(impacts < 0)[0])))\n",
    "    print(\"Average gain: \" + str(np.mean(impacts[np.where(impacts > 0)])))\n",
    "    print(\"Average loss: \" + str(np.mean(impacts[np.where(impacts < 0)])))\n",
    "    print(\"Largest gain: \" + str(max(impacts)))    \n",
    "    print(\"Largest loss: \" + str(min(impacts)))\n",
    "    print(\"NIBT based on data: \" + str(sum(impacts) / len(dataset) * scaledActiveCards + 75 * (totalCards - scaledActiveCards)))"
   ]
  },
  {
   "cell_type": "code",
   "execution_count": 362,
   "metadata": {
    "scrolled": true
   },
   "outputs": [
    {
     "name": "stdout",
     "output_type": "stream",
     "text": [
      "Total profit from data set: -8563642.24485\n",
      "Average profit per customer: -285.454741495\n",
      "Median profit: 57.9218708333\n",
      "Number of gains: 21858\n",
      "Number of losses: 8142\n",
      "Average gain: 72.277478334\n",
      "Average loss: -1245.82207888\n",
      "Largest gain: 189.99405\n",
      "Largest loss: -20298.72645\n",
      "NIBT based on data: -424320329.936\n"
     ]
    },
    {
     "data": {
      "image/png": "[encoded data removed]",
      "text/plain": [
       "<matplotlib.figure.Figure at 0x223f558ce80>"
      ]
     },
     "metadata": {},
     "output_type": "display_data"
    }
   ],
   "source": [
    "keyValues(data_na, collectionEfficiency, defaultBiasModifier)"
   ]
  },
  {
   "cell_type": "markdown",
   "metadata": {},
   "source": [
    "The total impact seems to be heavily negative but the average impact is only 8.50 dollars per costumer. Also the dataset seems to be heavily skewed to having more defaulters so this is to be expected. "
   ]
  },
  {
   "cell_type": "code",
   "execution_count": 339,
   "metadata": {},
   "outputs": [],
   "source": [
    "#a function for calculating how much money a dataset will produce when generalized to the whole population\n",
    "\n",
    "def bottomLine(dataset, collectEff, bias):\n",
    "    impacts = []\n",
    "\n",
    "    for i in range(0,len(dataset)):\n",
    "        impacts.append(financialImpact(dataset[i,6:25], collectEff, bias))\n",
    "     \n",
    "    #since the filtering of credit cards decreases also the amount of credit cards in the general population\n",
    "    #the amount of active credit cards must be scaled to much the effect of the filtering\n",
    "    \n",
    "    scaledActiveCards = activeCards * len(dataset) / (30000 / bias) \n",
    "    \n",
    "    return sum(impacts) / len(dataset) * scaledActiveCards#  + 75 * (totalCards - scaledActiveCards)"
   ]
  },
  {
   "cell_type": "code",
   "execution_count": 363,
   "metadata": {},
   "outputs": [
    {
     "data": {
      "text/plain": [
       "-480420329.93608606"
      ]
     },
     "execution_count": 363,
     "metadata": {},
     "output_type": "execute_result"
    }
   ],
   "source": [
    "bottomLine(data_na, collectionEfficiency, defaultBiasModifier)"
   ]
  },
  {
   "cell_type": "markdown",
   "metadata": {},
   "source": [
    "# Let's try to create some kind of filter with a desicion tree\n",
    "The model is just a basic out of the box decision tree"
   ]
  },
  {
   "cell_type": "code",
   "execution_count": 276,
   "metadata": {},
   "outputs": [
    {
     "name": "stdout",
     "output_type": "stream",
     "text": [
      "Score: 0.769111111111\n",
      "Confusion matrix: \n",
      "[[6902 2009]\n",
      " [  69   20]]\n"
     ]
    }
   ],
   "source": [
    "all_data = data_na[:,0:25].astype(float)\n",
    "all_labels = data_na[:,24].astype(float)\n",
    "train_data, test_data, train_labels, test_labels = train_test_split(all_data, all_labels, test_size = 0.3)\n",
    "\n",
    "train_data = train_data[:,1:5]\n",
    "test_data = test_data[:,1:5]\n",
    "\n",
    "model = DecisionTreeClassifier(random_state=0)\n",
    "\n",
    "model.fit(train_data, train_labels)\n",
    "\n",
    "print(\"Score: \" + str(model.score(test_data, test_labels)))\n",
    "\n",
    "print(\"Confusion matrix: \\n\" + str(confusion_matrix(model.predict(test_data), test_labels)))"
   ]
  },
  {
   "cell_type": "code",
   "execution_count": 262,
   "metadata": {},
   "outputs": [
    {
     "data": {
      "text/plain": [
       "array([[0.0],\n",
       "       [64.52],\n",
       "       [161.29],\n",
       "       ..., \n",
       "       [100.0],\n",
       "       [58.19],\n",
       "       [32.26]], dtype=object)"
      ]
     },
     "execution_count": 262,
     "metadata": {},
     "output_type": "execute_result"
    }
   ],
   "source": [
    "data_na[:,23:24]"
   ]
  },
  {
   "cell_type": "code",
   "execution_count": 251,
   "metadata": {},
   "outputs": [
    {
     "data": {
      "text/plain": [
       "array([[  1.35000000e+04,   1.00000000e+00,   1.00000000e+00,\n",
       "          1.00000000e+00,   4.70000000e+01],\n",
       "       [  6.80000000e+03,   2.00000000e+00,   1.00000000e+00,\n",
       "          1.00000000e+00,   4.40000000e+01],\n",
       "       [  1.10000000e+04,   2.00000000e+00,   2.00000000e+00,\n",
       "          1.00000000e+00,   3.10000000e+01],\n",
       "       ..., \n",
       "       [  1.03000000e+04,   2.00000000e+00,   2.00000000e+00,\n",
       "          2.00000000e+00,   2.80000000e+01],\n",
       "       [  4.50000000e+03,   2.00000000e+00,   1.00000000e+00,\n",
       "          2.00000000e+00,   2.70000000e+01],\n",
       "       [  8.70000000e+03,   2.00000000e+00,   1.00000000e+00,\n",
       "          2.00000000e+00,   3.10000000e+01]])"
      ]
     },
     "execution_count": 251,
     "metadata": {},
     "output_type": "execute_result"
    }
   ],
   "source": [
    "train_data"
   ]
  },
  {
   "cell_type": "markdown",
   "metadata": {},
   "source": [
    "## Let's try to see how the predicted probability of the model correlates with the default risk"
   ]
  },
  {
   "cell_type": "markdown",
   "metadata": {},
   "source": [
    "### First with the test data"
   ]
  },
  {
   "cell_type": "code",
   "execution_count": 277,
   "metadata": {},
   "outputs": [
    {
     "name": "stdout",
     "output_type": "stream",
     "text": [
      "Median: 0.225141505449\n",
      "Mean: 0.216760824557\n"
     ]
    },
    {
     "data": {
      "text/plain": [
       "Text(0,0.5,'Percentage of defaulters')"
      ]
     },
     "execution_count": 277,
     "metadata": {},
     "output_type": "execute_result"
    },
    {
     "data": {
      "image/png": "[encoded data removed]",
      "text/plain": [
       "<matplotlib.figure.Figure at 0x223f5054c50>"
      ]
     },
     "metadata": {},
     "output_type": "display_data"
    }
   ],
   "source": [
    "probabilities = model.predict_proba(test_data)\n",
    "\n",
    "percentages = []\n",
    "size = []\n",
    "total = len(test_data)\n",
    "for i in range(0,100):\n",
    "    defaulters = len(np.where(test_labels[np.where(probabilities[:,1] > i / 100)] == 1.0)[0])\n",
    "    non_defaulters =  len(np.where(test_labels[np.where(probabilities[:,1] > i / 100)] == 0)[0])\n",
    "    percentages.append(defaulters / (defaulters + non_defaulters))\n",
    "    size.append((defaulters + non_defaulters) / total) \n",
    "\n",
    "np.array(percentages)\n",
    "print(\"Median: \" + str(np.median(percentages)))\n",
    "print(\"Mean: \" + str(np.mean(percentages)))\n",
    "percentages[25]\n",
    "\n",
    "plt.figure(1,(7,14))\n",
    "plt.subplot(211)\n",
    "plt.plot(percentages)\n",
    "plt.plot(size)\n",
    "plt.xlabel(\"Predicted probability (%)\")\n",
    "plt.ylabel(\"Percentage of defaulters\")\n"
   ]
  },
  {
   "cell_type": "code",
   "execution_count": 256,
   "metadata": {},
   "outputs": [
    {
     "name": "stdout",
     "output_type": "stream",
     "text": [
      "Percentage of defaulters at 40% predicted probality: 0.2769693928750627\n",
      "Percetage of people with 40% predicted probability: 0.22144444444444444\n",
      "\n",
      "Percentage of defaulters at 30% predicted probality: 0.2704889201547661\n",
      "Percetage of people with 30% predicted probability: 0.3158888888888889\n"
     ]
    }
   ],
   "source": [
    "print(\"Percentage of defaulters at 40% predicted probality: \" + str(percentages[40]))\n",
    "print(\"Percetage of people with 40% predicted probability: \" + str(size[40]))\n",
    "print(\"\")\n",
    "print(\"Percentage of defaulters at 30% predicted probality: \" + str(percentages[30]))\n",
    "print(\"Percetage of people with 30% predicted probability: \" + str(size[30]))"
   ]
  },
  {
   "cell_type": "markdown",
   "metadata": {},
   "source": [
    "There seems to be some correlation between the predicted probability and the predicted probability of the model. In the end there are too few people to really say are they going to default."
   ]
  },
  {
   "cell_type": "markdown",
   "metadata": {},
   "source": [
    "### Whole dataset"
   ]
  },
  {
   "cell_type": "code",
   "execution_count": 318,
   "metadata": {},
   "outputs": [
    {
     "name": "stdout",
     "output_type": "stream",
     "text": [
      "Median: 0.504191070368\n",
      "Mean: 0.488783486858\n",
      "Score: 0.779266666667\n"
     ]
    },
    {
     "data": {
      "text/plain": [
       "Text(0,0.5,'Percentage of defaulters')"
      ]
     },
     "execution_count": 318,
     "metadata": {},
     "output_type": "execute_result"
    },
    {
     "data": {
      "image/png": "[encoded data removed]",
      "text/plain": [
       "<matplotlib.figure.Figure at 0x223faccb7b8>"
      ]
     },
     "metadata": {},
     "output_type": "display_data"
    }
   ],
   "source": [
    "probabilities = model.predict_proba(all_data[:,1:5])\n",
    "\n",
    "percentages = []\n",
    "size = []\n",
    "total = len(all_data)\n",
    "for i in range(0,100):\n",
    "    defaulters = len(np.where(all_labels[np.where(probabilities[:,1] > i / 100)] == 1.0)[0])\n",
    "    non_defaulters =  len(np.where(all_labels[np.where(probabilities[:,1] > i / 100)] == 0)[0])\n",
    "    percentages.append(defaulters / (defaulters + non_defaulters))\n",
    "    size.append((defaulters + non_defaulters) / total) \n",
    "\n",
    "np.array(percentages)\n",
    "print(\"Median: \" + str(np.median(percentages)))\n",
    "print(\"Mean: \" + str(np.mean(percentages)))\n",
    "print(\"Score: \" + str(model.score(all_data[:,1:5], all_labels)))\n",
    "percentages[25]\n",
    "\n",
    "plt.figure(1,(7,14))\n",
    "plt.subplot(211)\n",
    "plt.plot(percentages)\n",
    "plt.plot(size)\n",
    "plt.xlabel(\"Predicted probability (%)\")\n",
    "plt.ylabel(\"Percentage of defaulters\")\n"
   ]
  },
  {
   "cell_type": "code",
   "execution_count": 272,
   "metadata": {},
   "outputs": [
    {
     "name": "stdout",
     "output_type": "stream",
     "text": [
      "Percentage of defaulters at 40% predicted probality: 0.443205574912892\n",
      "Percetage of people with 40% predicted probability: 0.04783333333333333\n",
      "\n",
      "Percentage of defaulters at 30% predicted probality: 0.3592734544242626\n",
      "Percetage of people with 30% predicted probability: 0.20003333333333334\n"
     ]
    }
   ],
   "source": [
    "print(\"Percentage of defaulters at 40% predicted probality: \" + str(percentages[40]))\n",
    "print(\"Percetage of people with 40% predicted probability: \" + str(size[40]))\n",
    "print(\"\")\n",
    "print(\"Percentage of defaulters at 30% predicted probality: \" + str(percentages[30]))\n",
    "print(\"Percetage of people with 30% predicted probability: \" + str(size[30]))\n"
   ]
  },
  {
   "cell_type": "code",
   "execution_count": 367,
   "metadata": {},
   "outputs": [
    {
     "name": "stdout",
     "output_type": "stream",
     "text": [
      "11\n",
      "33\n",
      "55\n",
      "77\n",
      "99\n"
     ]
    },
    {
     "data": {
      "text/plain": [
       "[<matplotlib.lines.Line2D at 0x223f5148cc0>]"
      ]
     },
     "execution_count": 367,
     "metadata": {},
     "output_type": "execute_result"
    },
    {
     "data": {
      "image/png": "[encoded data removed]",
      "text/plain": [
       "<matplotlib.figure.Figure at 0x223f59dd550>"
      ]
     },
     "metadata": {},
     "output_type": "display_data"
    }
   ],
   "source": [
    "bottomLines = []\n",
    "for i in range(1,100, 2):\n",
    "    if(i % 11 == 0):\n",
    "        print(i)\n",
    "    survivors = all_data[np.where(probabilities[:,1] < i / 100)]\n",
    "    bottomLines.append(bottomLine(survivors, 0.5, 3))\n",
    "\n",
    "plt.plot(list(range(1,100,2)),bottomLines)"
   ]
  },
  {
   "cell_type": "code",
   "execution_count": 368,
   "metadata": {},
   "outputs": [
    {
     "name": "stdout",
     "output_type": "stream",
     "text": [
      "11\n",
      "33\n",
      "55\n",
      "77\n",
      "99\n"
     ]
    },
    {
     "data": {
      "text/plain": [
       "[<matplotlib.lines.Line2D at 0x223f5ebe4a8>]"
      ]
     },
     "execution_count": 368,
     "metadata": {},
     "output_type": "execute_result"
    },
    {
     "data": {
      "image/png": "[encoded data removed]",
      "text/plain": [
       "<matplotlib.figure.Figure at 0x223f8df6860>"
      ]
     },
     "metadata": {},
     "output_type": "display_data"
    }
   ],
   "source": [
    "bottomLines = []\n",
    "for i in range(1,100,2):\n",
    "    if(i % 11 == 0):\n",
    "        print(i)\n",
    "    survivors = all_data[np.where(probabilities[:,1] < i / 100)]\n",
    "    bottomLines.append(bottomLine(survivors, 0.6, 3))\n",
    "\n",
    "plt.plot(list(range(1,100,2)),bottomLines)"
   ]
  },
  {
   "cell_type": "code",
   "execution_count": 369,
   "metadata": {},
   "outputs": [
    {
     "name": "stdout",
     "output_type": "stream",
     "text": [
      "11\n",
      "33\n",
      "55\n",
      "77\n",
      "99\n"
     ]
    },
    {
     "data": {
      "text/plain": [
       "[<matplotlib.lines.Line2D at 0x223f5f1f828>]"
      ]
     },
     "execution_count": 369,
     "metadata": {},
     "output_type": "execute_result"
    },
    {
     "data": {
      "image/png": "[encoded data removed]",
      "text/plain": [
       "<matplotlib.figure.Figure at 0x223f5edd3c8>"
      ]
     },
     "metadata": {},
     "output_type": "display_data"
    }
   ],
   "source": [
    "bottomLines = []\n",
    "for i in range(1,100,2):\n",
    "    if(i % 11 == 0):\n",
    "        print(i)\n",
    "    survivors = all_data[np.where(probabilities[:,1] < i / 100)]\n",
    "    bottomLines.append(bottomLine(survivors, 0.1, 3))\n",
    "\n",
    "plt.plot(list(range(1,100,2)),bottomLines)"
   ]
  },
  {
   "cell_type": "code",
   "execution_count": 371,
   "metadata": {},
   "outputs": [
    {
     "name": "stdout",
     "output_type": "stream",
     "text": [
      "11\n",
      "33\n",
      "55\n",
      "77\n",
      "99\n"
     ]
    },
    {
     "data": {
      "text/plain": [
       "[<matplotlib.lines.Line2D at 0x223f61d3048>]"
      ]
     },
     "execution_count": 371,
     "metadata": {},
     "output_type": "execute_result"
    },
    {
     "data": {
      "image/png": "[encoded data removed]",
      "text/plain": [
       "<matplotlib.figure.Figure at 0x223f4babda0>"
      ]
     },
     "metadata": {},
     "output_type": "display_data"
    }
   ],
   "source": [
    "bottomLines = []\n",
    "for i in range(1,100,2):\n",
    "    if(i % 11 == 0):\n",
    "        print(i)\n",
    "    survivors = all_data[np.where(probabilities[:,1] < i / 100)]\n",
    "    bottomLines.append(bottomLine(survivors, 0.9, 3))\n",
    "\n",
    "plt.plot(list(range(1,100,2)),bottomLines)"
   ]
  },
  {
   "cell_type": "markdown",
   "metadata": {},
   "source": [
    "In the last two imges we can see the basic trend in this model. If you can retrieve most of your money on default, you should offer many credit cards. If you lose most of your money on default, tou shouldn't give out any credit cards since they are bad business. \n",
    "\n",
    "Based on this classifier there is no point in discriminating anyone. However this is just a quick mockup model, but with a better classification algorithm it could be possible to derive benefit from this. "
   ]
  }
 ],
 "metadata": {
  "kernelspec": {
   "display_name": "Python 3",
   "language": "python",
   "name": "python3"
  },
  "language_info": {
   "codemirror_mode": {
    "name": "ipython",
    "version": 3
   },
   "file_extension": ".py",
   "mimetype": "text/x-python",
   "name": "python",
   "nbconvert_exporter": "python",
   "pygments_lexer": "ipython3",
   "version": "3.6.3"
  }
 },
 "nbformat": 4,
 "nbformat_minor": 2
}
